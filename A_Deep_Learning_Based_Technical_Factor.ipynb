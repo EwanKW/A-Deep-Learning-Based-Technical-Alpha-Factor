{
  "nbformat": 4,
  "nbformat_minor": 0,
  "metadata": {
    "colab": {
      "provenance": [],
      "machine_shape": "hm"
    },
    "kernelspec": {
      "name": "python3",
      "display_name": "Python 3"
    },
    "language_info": {
      "name": "python"
    }
  },
  "cells": [
    {
      "cell_type": "markdown",
      "source": [
        "---\n",
        "# **A Deep-Learning-Based Alpha Factor Identification**\n",
        "---\n",
        "\n",
        "- Author: Kaichong Wang (kw3181@nyu.edu)\n",
        "- Date: March 18, 2023\n",
        "\n",
        "The project is reviewed and updated in March, 2024."
      ],
      "metadata": {
        "id": "PoP-wmk7ms36"
      }
    },
    {
      "cell_type": "markdown",
      "source": [
        "**💻 OVERVIEW**\n",
        "\n",
        "- The factor is identified and computed using an LSTM deep neural network. The network receives input from a stock's profile, which comprises a recent trend relative to the market. This profile is made up of a $1\\times10\\times7$ three-dimensional tensor. The tensor contains time-series data of seven features: standardized (relative) volume, amount, turnover, open price change, high price change, low price change, and close price change, over the most recent 10 transaction days (2 weeks). The output is a predicted value of the stock's standardized excess return. This method closely resembles the work of technical analysts, which examines a stock's recent price trend to predict future performance.\n",
        "- The network was trained using the market data of all tickers (about 5000 in total) in the Chinese A-share market from November 1, 2021, to March 1, 2022. It was trained to predict their daily forward return based on their profiles. The score output by the trained network is used as the alpha factor with daily frequency.\n",
        "- I tested the factor's explainability to return and its stability from March 1, 2022, to May 1, 2022. The factor is quite effective with an **average information coefficient of 0.07**, an **information ratio of 0.91**, good monotonicity in stock selection, and **annualized Sharpe ratios of 2.66 for a long portfolio** (14.48 for a long-short portfolio)."
      ],
      "metadata": {
        "id": "08tW_zCBUTl-"
      }
    },
    {
      "cell_type": "markdown",
      "source": [
        "## 1. Set-ups and Data Loading"
      ],
      "metadata": {
        "id": "MJkNmcHAwmJs"
      }
    },
    {
      "cell_type": "code",
      "execution_count": null,
      "metadata": {
        "id": "ku_QlrthmoF-"
      },
      "outputs": [],
      "source": [
        "%%capture\n",
        "\n",
        "import numpy as np\n",
        "import pandas as pd\n",
        "import seaborn as sns\n",
        "import matplotlib.pyplot as plt\n",
        "import seaborn as sns\n",
        "from numpy.linalg import inv\n",
        "%matplotlib inline\n",
        "\n",
        "import warnings\n",
        "warnings.filterwarnings(\"ignore\")\n",
        "\n",
        "from tqdm import tqdm\n",
        "\n",
        "from google.colab import drive"
      ]
    },
    {
      "cell_type": "code",
      "source": [
        "%%capture\n",
        "drive.mount('/content/drive')\n",
        "%cd '/content/drive/MyDrive/Internship/data_prj2'"
      ],
      "metadata": {
        "id": "lcpdfJPV5E4N"
      },
      "execution_count": null,
      "outputs": []
    },
    {
      "cell_type": "code",
      "source": [
        "# Load the data\n",
        "# open = pd.read_hdf(\"open.hdf\", key='data')\n",
        "#close = pd.read_hdf(\"close.hdf\", key='data')\n",
        "#high = pd.read_hdf(\"high.hdf\", key='data')\n",
        "#low = pd.read_hdf(\"low.hdf\", key='data')\n",
        "#vol = pd.read_hdf(\"vol.hdf\", key='data')\n",
        "#turn = pd.read_hdf(\"turn.hdf\", key='data')\n",
        "#amount = pd.read_hdf(\"amount.hdf\", key='data')\n",
        "\n",
        "# Melt the data\n",
        "#open = pd.melt(open.reset_index(), id_vars='date', var_name='Ticker', value_name='Open').rename(columns={'date':'Date'})\n",
        "#close = pd.melt(close.reset_index(), id_vars='date', var_name='Ticker', value_name='Close').rename(columns={'date':'Date'})\n",
        "#high = pd.melt(high.reset_index(), id_vars='date', var_name='Ticker', value_name='High').rename(columns={'date':'Date'})\n",
        "#low = pd.melt(low.reset_index(), id_vars='date', var_name='Ticker', value_name='Low').rename(columns={'date':'Date'})\n",
        "#vol = pd.melt(vol.reset_index(), id_vars='index', var_name='Ticker', value_name='Vol').rename(columns={'index':'Date'})\n",
        "#turn = pd.melt(turn.reset_index(), id_vars='date', var_name='Ticker', value_name='Turn').rename(columns={'date':'Date'})\n",
        "#amount = pd.melt(amount.reset_index(), id_vars='index', var_name='Ticker', value_name='Amount').rename(columns={'index':'Date'})\n",
        "\n",
        "# Merge the data\n",
        "#df = pd.merge(open, close, on=['Date', 'Ticker'], how='left')\n",
        "#df = pd.merge(df, high, on=['Date', 'Ticker'], how='left')\n",
        "#df = pd.merge(df, low, on=['Date', 'Ticker'], how='left')\n",
        "#df = pd.merge(df, vol, on=['Date', 'Ticker'], how='left')\n",
        "#df = pd.merge(df, turn, on=['Date', 'Ticker'], how='left')\n",
        "#df = pd.merge(df, amount, on=['Date', 'Ticker'], how='left')"
      ],
      "metadata": {
        "id": "rwIST27PWQbW"
      },
      "execution_count": null,
      "outputs": []
    },
    {
      "cell_type": "code",
      "source": [
        "# Let's use the percentage change of close price as return\n",
        "# df['Today Ret'] = df.groupby('Ticker')['Close'].pct_change()\n",
        "# df['Tomorrow Ret'] = df.groupby('Ticker')['Today Ret'].shift(-1)\n",
        "\n",
        "# Drop the instances that have invalid targets\n",
        "# df = df.dropna(subset=['Tomorrow Ret'], axis=0)\n",
        "# df = df[np.isfinite(df['Tomorrow Ret'])]\n",
        "\n",
        "# df.to_csv('df.csv', index=False)"
      ],
      "metadata": {
        "id": "C5Ah0b5wIdpM"
      },
      "execution_count": null,
      "outputs": []
    },
    {
      "cell_type": "code",
      "source": [
        "# df = pd.read_csv(\"df.csv\")"
      ],
      "metadata": {
        "id": "P8I7F5A1z79y"
      },
      "execution_count": null,
      "outputs": []
    },
    {
      "cell_type": "markdown",
      "source": [
        "For Prices, we calculte their relative change to last-day close price. The Price Changes are calculated as follows:\n",
        "\n",
        "$$\n",
        "\\%\\Delta O_{t, i} = \\frac{O_{t, i}}{C_{t-1, i}} - 1,~\n",
        "\\%\\Delta H_{t, i} = \\frac{H_{t, i}}{C_{t-1, i}} - 1,~\n",
        "\\%\\Delta L_{t, i} = \\frac{L_{t, i}}{C_{t-1, i}} - 1,~\n",
        "\\%\\Delta C_{t, i} = \\frac{C_{t, i}}{C_{t-1, i}} - 1\n",
        "$$\n",
        "\n",
        "for ticker $i$ on date $t$."
      ],
      "metadata": {
        "id": "WeRbHPNEPqmy"
      }
    },
    {
      "cell_type": "code",
      "source": [
        "# # For OHLC, we calculte their relative change to last-day close price.\n",
        "\n",
        "# df['Open Change'] = df['Open'] / df.groupby('Ticker')['Close'].shift(1) - 1\n",
        "# df['High Change'] = df['High'] / df.groupby('Ticker')['Close'].shift(1) - 1\n",
        "# df['Low Change'] = df['Low'] / df.groupby('Ticker')['Close'].shift(1) - 1\n",
        "# df['Close Change'] = df['Close'] / df.groupby('Ticker')['Close'].shift(1) - 1\n",
        "# df = df.drop(columns=['Today Ret'])\n",
        "\n",
        "# # Remove the first month\n",
        "# df = df[(df['Date'] >= '2013-02-01')]"
      ],
      "metadata": {
        "id": "fprKzdtyG4vm"
      },
      "execution_count": null,
      "outputs": []
    },
    {
      "cell_type": "code",
      "source": [
        "# df['Date'] = pd.to_datetime(df['Date'])\n",
        "\n",
        "# # Select Data Range\n",
        "# start_date = '2018-01-01'\n",
        "# end_date = '2023-07-01'\n",
        "\n",
        "# df = df[(df['Date'] >= start_date) & (df['Date'] <= end_date)].reset_index(drop=True)"
      ],
      "metadata": {
        "id": "ERx72YTiR4OD"
      },
      "execution_count": null,
      "outputs": []
    },
    {
      "cell_type": "code",
      "source": [
        "# features_list = ['Vol', 'Turn', 'Amount', 'Open Change', 'High Change', 'Low Change', 'Close Change']"
      ],
      "metadata": {
        "id": "6IYe1k56IQeV"
      },
      "execution_count": null,
      "outputs": []
    },
    {
      "cell_type": "code",
      "source": [
        "def winsorize_field(column, method=2, u=0.99, l=0.01, z=5):\n",
        "    if method == 1:\n",
        "        upper_bound = column.quantile(u)\n",
        "        lower_bound = column.quantile(l)\n",
        "    if method == 2:\n",
        "        median_value = column.median()\n",
        "        mad_value = np.median(np.abs(column - median_value))\n",
        "        upper_bound = median_value + z * mad_value\n",
        "        lower_bound = median_value - z * mad_value\n",
        "    column = column.clip(lower_bound, upper_bound)\n",
        "    return column\n",
        "\n",
        "# for field_column in features_list:\n",
        "#     df[field_column] = df.groupby('Date')[field_column].transform(winsorize_field)\n",
        "\n",
        "# df['Tomorrow Ret (Scaled)'] = df.groupby('Date')['Tomorrow Ret'].transform(winsorize_field)"
      ],
      "metadata": {
        "id": "Z5jSU1IkF6TG"
      },
      "execution_count": null,
      "outputs": []
    },
    {
      "cell_type": "code",
      "source": [
        "# # Standardization\n",
        "# features_list.append('Tomorrow Ret (Scaled)')\n",
        "\n",
        "# for field_column in features_list:\n",
        "#     df[field_column + ' (Standardized)'] = (df[field_column] - df.groupby('Date')[field_column].transform('mean')) / df.groupby('Date')[field_column].transform('std')\n",
        "\n",
        "# # Invalid Values Imputation\n",
        "# for field_column in features_list:\n",
        "#     df[field_column + ' (Standardized)'].fillna(0.0, inplace=True)\n",
        "#     df[field_column + ' (Standardized)'].replace([np.inf, -np.inf], 0.0, inplace=True)"
      ],
      "metadata": {
        "id": "qzi6mmi5Ilhr"
      },
      "execution_count": null,
      "outputs": []
    },
    {
      "cell_type": "code",
      "source": [
        "# df.head()\n",
        "# # df.to_hdf('df_preprocessed.h5', key='data', mode='w')"
      ],
      "metadata": {
        "id": "w6J2BF3kGO9y"
      },
      "execution_count": null,
      "outputs": []
    },
    {
      "cell_type": "code",
      "source": [
        "# # Training Set: from 2021-05-01 to 2022-05-01\n",
        "# # Testing Set: from 2022-05-15 to 2022-12-31\n",
        "\n",
        "# df_train = df[(df['Date'] >= '2021-05-01') & (df['Date'] <= '2022-05-01')].reset_index(drop=True)\n",
        "# df_test = df[(df['Date'] >= '2022-05-15') & (df['Date'] <= '2022-12-31')].reset_index(drop=True)\n",
        "\n",
        "# # There is a very weird bug: df_test contains one inf\n",
        "# df_test = df_test[np.isfinite(df_test['Tomorrow Ret'])]"
      ],
      "metadata": {
        "id": "vBxu5phHJPaA"
      },
      "execution_count": null,
      "outputs": []
    },
    {
      "cell_type": "code",
      "source": [
        "# df_train.to_hdf('df_train.h5', key='data', mode='w')\n",
        "# df_test.to_hdf('df_test.h5', key='data', mode='w')"
      ],
      "metadata": {
        "id": "3O5n59GwkhJl"
      },
      "execution_count": null,
      "outputs": []
    },
    {
      "cell_type": "code",
      "source": [
        "# # df_train.to_hdf('df_train.h5', key='data', mode='w')\n",
        "# # df_test.to_hdf('df_test.h5', key='data', mode='w')\n",
        "\n",
        "df_train = pd.read_hdf('df_train.h5', key='data')\n",
        "df_test = pd.read_hdf('df_test.h5', key='data')"
      ],
      "metadata": {
        "id": "w1Ugz_ZXju0E"
      },
      "execution_count": null,
      "outputs": []
    },
    {
      "cell_type": "markdown",
      "source": [
        "## 2. DL-Based Technical Alpha Factor Identification"
      ],
      "metadata": {
        "id": "PSkula4RJk3m"
      }
    },
    {
      "cell_type": "markdown",
      "source": [
        "🤖 **Deep Learning Based Factor Identification**\n",
        "\n",
        "Identifying alpha factors using deep learning involves the following approach: We utilize a Long Short-Term Memory (LSTM) network, feeding it three-dimensional temporal data consisting of *seven* sequential variables with length **ten** (nearest two weeks)—\n",
        "- Volume (`Vol`),\n",
        "- Turnover (`Turn`),\n",
        "- Amount (`Amount`),\n",
        "- Open Price Change (`Open Price Change`),\n",
        "- High Price Change (`High Change`),\n",
        "- Low Price Change (`Low Change`), and\n",
        "- Close Price Change (`Close Change`)\n",
        "\n",
        "—for all tickers in the Chinese A-share market over a recent 10-day period.\n",
        "\n",
        "These variables are standardized at each time step across the cross-section of all tickers, so that each input row represent the ticker's price & volumes trend relative to the market. This setting aims to encapsulate price & volumes trends' critical information as perceived by a technical analyst.\n",
        "\n",
        "The LSTM network is trained to predict the next day's standardized returns, which represent relative market performance, by minimizing the Mean Squared Error (MSE) loss against actual outcomes. Through this training process, the network learns to discern the implications of a ticker's price & volumes trend on its future relative performance.\n",
        "\n",
        "Once trained, this deep learning model can evaluate a ticker's market data to output a forecast of its anticipated relative performance. The output serves as our Deep Learning-Based Technical Alpha Factor."
      ],
      "metadata": {
        "id": "J5xsYfZGJo2z"
      }
    },
    {
      "cell_type": "code",
      "source": [
        "# Training Set: from 2021-11-01 to 2022-03-01\n",
        "# Validation Set: from 2022-03-01 to 2022-05-01\n",
        "\n",
        "data_train, data_valid = df_train[df_train['Date'] < '2022-03-01'], df_train[df_train['Date'] >= '2022-03-01']"
      ],
      "metadata": {
        "id": "I6ZbEkOCk-V1"
      },
      "execution_count": null,
      "outputs": []
    },
    {
      "cell_type": "code",
      "source": [
        "import copy\n",
        "import torch\n",
        "import torch.nn as nn\n",
        "import torch.optim as optim\n",
        "import torch.nn.functional as f\n",
        "import torch.nn.init as init\n",
        "from torch.utils.data import random_split\n",
        "import random\n",
        "\n",
        "device = torch.device(\"cuda\" if torch.cuda.is_available() else \"cpu\")\n",
        "print(\"Using device:\", device)"
      ],
      "metadata": {
        "colab": {
          "base_uri": "https://localhost:8080/"
        },
        "id": "UgGetrCjF4IJ",
        "outputId": "5620be61-1644-46df-9ea3-a745b23a76d9"
      },
      "execution_count": null,
      "outputs": [
        {
          "output_type": "stream",
          "name": "stdout",
          "text": [
            "Using device: cpu\n"
          ]
        }
      ]
    },
    {
      "cell_type": "code",
      "source": [
        "target_name = 'Tomorrow Ret (Scaled) (Standardized)'\n",
        "\n",
        "def df_to_tensor(data, dtype=torch.float32):\n",
        "    return torch.tensor(np.array(data), dtype=dtype).to(device)\n",
        "\n",
        "class RNNDataset(torch.utils.data.Dataset):\n",
        "    def __init__(self, data, selected_features, seq_n):\n",
        "        data.index = [data['Date'], data['Ticker']]\n",
        "        data = data.drop(['Date', 'Ticker'], axis=1)\n",
        "        df = data.swaplevel().sort_index().copy()\n",
        "        sample_index = df.groupby('Ticker')[selected_features].shift(seq_n-1).dropna().index.tolist()\n",
        "        inputs = df.loc[:, selected_features]\n",
        "        labels = df[[target_name]]\n",
        "\n",
        "        self.data_list = []\n",
        "        for sample in tqdm(sample_index, 'loading', leave=False):\n",
        "            data_tuple = (\n",
        "                df_to_tensor(inputs.loc[:sample].iloc[-seq_n:]),\n",
        "                df_to_tensor(labels.loc[sample])\n",
        "            )\n",
        "            self.data_list.append(data_tuple)\n",
        "\n",
        "    def __len__(self):\n",
        "        return len(self.data_list)\n",
        "\n",
        "    def __getitem__(self, idx):\n",
        "        return self.data_list[idx]\n",
        "\n",
        "\n",
        "class LSTMModel(nn.Module):\n",
        "    def __init__(self, input_size, hidden_size=128, output_size=1, dropout_prob=0.2):\n",
        "        super(LSTMModel, self).__init__()\n",
        "        self.hidden_size = hidden_size\n",
        "\n",
        "        self.lstm = nn.LSTM(input_size, hidden_size, batch_first=True)\n",
        "        self.fc = nn.Linear(hidden_size, output_size)\n",
        "        self.dropout = nn.Dropout(dropout_prob)\n",
        "\n",
        "    def forward(self, x):\n",
        "        _, (hidden, _) = self.lstm(x)\n",
        "        hidden = self.dropout(hidden)\n",
        "        output = self.fc(hidden)\n",
        "        return output\n",
        "\n",
        "\n",
        "def initialize_weights(model):\n",
        "    for name, param in model.named_parameters():\n",
        "        if 'weight' in name:\n",
        "            init.xavier_uniform_(param)\n",
        "\n",
        "\n",
        "def train(model, batch_size, train_dataset, valid_dataset, num_epochs, learning_rate, early_stop=True, patience=5, verbose=False, evaluation=True):\n",
        "    criterion = nn.MSELoss()\n",
        "    optimizer = optim.Adam(model.parameters(), lr=learning_rate)\n",
        "\n",
        "    dataloader = torch.utils.data.DataLoader(train_dataset, batch_size=batch_size, shuffle=True)\n",
        "    if evaluation:\n",
        "        dataloader_valid = torch.utils.data.DataLoader(valid_dataset, batch_size=batch_size, shuffle=True)\n",
        "\n",
        "    train_losses = []\n",
        "    valid_losses = []\n",
        "    best_valid_loss = float('inf')\n",
        "    current_patience = 0\n",
        "\n",
        "    initialize_weights(model)  # Reset model weights before training\n",
        "\n",
        "    for epoch in range(num_epochs):\n",
        "        model.train()\n",
        "        train_losses_batch, valid_losses_batch = [], []\n",
        "\n",
        "        # Training phase\n",
        "        for inputs, targets in tqdm(dataloader, total=len(dataloader), desc='Training', leave=False):\n",
        "            optimizer.zero_grad()\n",
        "            outputs = model(inputs)\n",
        "            targets = targets.view_as(outputs)\n",
        "            loss = criterion(outputs, targets)\n",
        "            train_losses_batch.append(loss.item())\n",
        "            loss.backward()\n",
        "            optimizer.step()\n",
        "\n",
        "        average_train_loss = sum(train_losses_batch) / len(train_losses_batch)\n",
        "        train_losses.append(average_train_loss)\n",
        "\n",
        "        if verbose:\n",
        "            print(f\"Epoch [{epoch + 1}/{num_epochs}]: \\tTraining Loss: {average_train_loss:.4f}\", end=\"\")\n",
        "\n",
        "        if not evaluation:\n",
        "            if verbose:\n",
        "                print()  # Newline for better formatting\n",
        "            continue\n",
        "\n",
        "        # Validation phase\n",
        "        model.eval()\n",
        "        with torch.no_grad():\n",
        "            for inputs, targets in dataloader_valid:\n",
        "                outputs = model(inputs)\n",
        "                targets = targets.view_as(outputs)\n",
        "                loss = criterion(outputs, targets)\n",
        "                valid_losses_batch.append(loss.item())\n",
        "            average_valid_loss = sum(valid_losses_batch) / len(valid_losses_batch)\n",
        "            valid_losses.append(average_valid_loss)\n",
        "\n",
        "        if verbose:\n",
        "            print(f\", Validation Loss: {average_valid_loss:.4f}\")\n",
        "\n",
        "        if early_stop:\n",
        "            if average_valid_loss < best_valid_loss:\n",
        "                best_valid_loss = average_valid_loss\n",
        "                current_patience = 0\n",
        "            else:\n",
        "                current_patience += 1\n",
        "\n",
        "            if current_patience >= patience:\n",
        "                print(\"\\nEarly stopping triggered. No improvement in validation loss for {} consecutive epochs.\".format(patience))\n",
        "                break\n",
        "\n",
        "    if verbose and evaluation:\n",
        "        plt.figure(figsize=(10, 5))\n",
        "        plt.plot(train_losses, label='Training Loss')\n",
        "        plt.plot(valid_losses, label='Validation Loss')\n",
        "        plt.title(\"Training and Validation Losses Over Epochs\")\n",
        "        plt.xlabel('Epoch')\n",
        "        plt.ylabel('Loss')\n",
        "        plt.legend()\n",
        "        plt.show()"
      ],
      "metadata": {
        "id": "04RHOmr7KLZ7"
      },
      "execution_count": null,
      "outputs": []
    },
    {
      "cell_type": "markdown",
      "source": [
        "**🪧 NOTE**\n",
        "\n",
        "After reviewing the project eight months later, I've identified several critical issues:\n",
        "\n",
        "1. The neural network architecture lacks depth, as it does not incorporate any activation functions, resulting in a linear model.\n",
        "2. The model's performance could potentially be enhanced by training it exclusively on a curated selection of tickers, specifically those included in the market index.\n",
        "\n",
        "```\n",
        "class LSTMModel(nn.Module):\n",
        "    def __init__(self, input_size, hidden_size=128, output_size=1, dropout_prob=0.2):\n",
        "        super(LSTMModel, self).__init__()\n",
        "        self.hidden_size = hidden_size\n",
        "\n",
        "        self.lstm = nn.LSTM(input_size, hidden_size, batch_first=True)\n",
        "        self.fc = nn.Linear(hidden_size, output_size)\n",
        "        self.dropout = nn.Dropout(dropout_prob)\n",
        "\n",
        "    def forward(self, x):\n",
        "        _, (hidden, _) = self.lstm(x)\n",
        "        hidden = self.dropout(hidden)\n",
        "        output = self.fc(hidden)\n",
        "        return output\n",
        "```\n",
        "I will fix the first issue.\n"
      ],
      "metadata": {
        "id": "d5G1LcDWBAi3"
      }
    },
    {
      "cell_type": "code",
      "source": [
        "seq_n = 10\n",
        "\n",
        "selected_features = ['Open Change (Standardized)',\n",
        "                     'High Change (Standardized)',\n",
        "                     'Low Change (Standardized)',\n",
        "                     'Close Change (Standardized)',\n",
        "                     'Vol (Standardized)',\n",
        "                     'Turn (Standardized)',\n",
        "                     'Amount (Standardized)']\n",
        "\n",
        "# train_dataset = RNNDataset(data_train, selected_features=selected_features, seq_n=seq_n) # 10 minutes\n",
        "# valid_dataset = RNNDataset(data_valid, selected_features=selected_features, seq_n=seq_n) # 3 minutes"
      ],
      "metadata": {
        "id": "w9vVPryqKTXs"
      },
      "execution_count": null,
      "outputs": []
    },
    {
      "cell_type": "code",
      "source": [
        "# Training (It will take about 90 minutes)\n",
        "\n",
        "input_size = len(selected_features)\n",
        "# model = LSTMModel(input_size=input_size, dropout_prob=0.2).to(device)\n",
        "# train(model, batch_size=64, train_dataset=train_dataset, valid_dataset=valid_dataset, num_epochs=10, learning_rate=1e-4, early_stop=False, patience=5, verbose=True)"
      ],
      "metadata": {
        "id": "WRAdw3twlfqb"
      },
      "execution_count": null,
      "outputs": []
    },
    {
      "cell_type": "markdown",
      "source": [
        "Let's try a deeper model.\n",
        "\n",
        "\n",
        "\n",
        "```\n",
        "class DeepLSTMModel(nn.Module):\n",
        "    def __init__(self, input_size, hidden_size_1=128, hidden_size_2=32, output_size=1, dropout_prob=0.2, num_layers=2):\n",
        "        super(DeepLSTMModel, self).__init__()\n",
        "        self.hidden_size_1 = hidden_size_1\n",
        "        self.hidden_size_2 = hidden_size_2\n",
        "\n",
        "        # Updated LSTM to have multiple layers and dropout\n",
        "        self.lstm = nn.LSTM(input_size, hidden_size_1, num_layers=num_layers, batch_first=True, dropout=dropout_prob if num_layers > 1 else 0)\n",
        "        \n",
        "        # Additional fully connected layer\n",
        "        self.fc1 = nn.Linear(hidden_size_1, hidden_size_2)  # Intermediate layer\n",
        "        self.fc2 = nn.Linear(hidden_size_2, output_size)  # Output layer\n",
        "        \n",
        "        self.dropout = nn.Dropout(dropout_prob)\n",
        "        self.relu = nn.ReLU()  # Non-linearity\n",
        "\n",
        "    def forward(self, x):\n",
        "        # Passing in the input and hidden state into the model and obtaining outputs\n",
        "        _, (hidden, _) = self.lstm(x)\n",
        "        \n",
        "        # Considering the last layer's hidden state\n",
        "        hidden = self.dropout(hidden[-1,:,:])  # Apply dropout to the last layer's output\n",
        "        \n",
        "        # Adding non-linear activation function between layers\n",
        "        hidden = self.relu(self.fc1(hidden))\n",
        "        hidden = self.dropout(hidden)  # Apply dropout\n",
        "        \n",
        "        output = self.fc2(hidden)\n",
        "        return output\n",
        "```\n",
        "\n",
        "\n",
        "\n"
      ],
      "metadata": {
        "id": "ym1jOrpdf94n"
      }
    },
    {
      "cell_type": "code",
      "source": [
        "class LSTMModel(nn.Module):\n",
        "    def __init__(self, input_size, hidden_size=128, output_size=1, dropout_prob=0.2):\n",
        "        super(LSTMModel, self).__init__()\n",
        "        self.hidden_size = hidden_size\n",
        "\n",
        "        self.lstm = nn.LSTM(input_size, hidden_size, batch_first=True)\n",
        "        self.fc = nn.Linear(hidden_size, output_size)\n",
        "        self.dropout = nn.Dropout(dropout_prob)\n",
        "\n",
        "    def forward(self, x):\n",
        "        _, (hidden, _) = self.lstm(x)\n",
        "        hidden = self.dropout(hidden)\n",
        "        output = self.fc(hidden)\n",
        "        return output"
      ],
      "metadata": {
        "id": "Ww7von2mHyWp"
      },
      "execution_count": null,
      "outputs": []
    },
    {
      "cell_type": "code",
      "source": [
        "class DeepLSTMModel(nn.Module):\n",
        "    def __init__(self, input_size, hidden_size_1=128, hidden_size_2=32, output_size=1, dropout_prob=0.2, num_layers=2):\n",
        "        super(DeepLSTMModel, self).__init__()\n",
        "        self.hidden_size_1 = hidden_size_1\n",
        "        self.hidden_size_2 = hidden_size_2\n",
        "\n",
        "        # Updated LSTM to have multiple layers and dropout\n",
        "        self.lstm = nn.LSTM(input_size, hidden_size_1, num_layers=num_layers, batch_first=True, dropout=dropout_prob if num_layers > 1 else 0)\n",
        "\n",
        "        # Additional fully connected layer\n",
        "        self.fc1 = nn.Linear(hidden_size_1, hidden_size_2)  # Intermediate layer\n",
        "        self.fc2 = nn.Linear(hidden_size_2, output_size)  # Output layer\n",
        "\n",
        "        self.dropout = nn.Dropout(dropout_prob)\n",
        "        self.relu = nn.ReLU()  # Non-linearity\n",
        "\n",
        "    def forward(self, x):\n",
        "        # Passing in the input and hidden state into the model and obtaining outputs\n",
        "        _, (hidden, _) = self.lstm(x)\n",
        "\n",
        "        # Considering the last layer's hidden state\n",
        "        hidden = self.dropout(hidden[-1,:,:])  # Apply dropout to the last layer's output\n",
        "\n",
        "        # Adding non-linear activation function between layers\n",
        "        hidden = self.relu(self.fc1(hidden))\n",
        "        hidden = self.dropout(hidden)  # Apply dropout\n",
        "\n",
        "        output = self.fc2(hidden)\n",
        "        return output"
      ],
      "metadata": {
        "id": "9ihIavSMf9Zy"
      },
      "execution_count": null,
      "outputs": []
    },
    {
      "cell_type": "code",
      "source": [
        "model_2 = DeepLSTMModel(input_size=input_size, dropout_prob=0.2).to(device)\n",
        "train(model_2, batch_size=64, train_dataset=train_dataset, valid_dataset=valid_dataset, num_epochs=30, learning_rate=5e-5, early_stop=False, patience=5, verbose=True)"
      ],
      "metadata": {
        "colab": {
          "base_uri": "https://localhost:8080/",
          "height": 158
        },
        "id": "kJQ-Nts-gOTe",
        "outputId": "345478bb-2523-4023-cc63-f2a4f719288b"
      },
      "execution_count": null,
      "outputs": [
        {
          "output_type": "error",
          "ename": "NameError",
          "evalue": "name 'DeepLSTMModel' is not defined",
          "traceback": [
            "\u001b[0;31m---------------------------------------------------------------------------\u001b[0m",
            "\u001b[0;31mNameError\u001b[0m                                 Traceback (most recent call last)",
            "\u001b[0;32m<ipython-input-1-b49a3e5b80d8>\u001b[0m in \u001b[0;36m<cell line: 1>\u001b[0;34m()\u001b[0m\n\u001b[0;32m----> 1\u001b[0;31m \u001b[0mmodel_2\u001b[0m \u001b[0;34m=\u001b[0m \u001b[0mDeepLSTMModel\u001b[0m\u001b[0;34m(\u001b[0m\u001b[0minput_size\u001b[0m\u001b[0;34m=\u001b[0m\u001b[0minput_size\u001b[0m\u001b[0;34m,\u001b[0m \u001b[0mdropout_prob\u001b[0m\u001b[0;34m=\u001b[0m\u001b[0;36m0.2\u001b[0m\u001b[0;34m)\u001b[0m\u001b[0;34m.\u001b[0m\u001b[0mto\u001b[0m\u001b[0;34m(\u001b[0m\u001b[0mdevice\u001b[0m\u001b[0;34m)\u001b[0m\u001b[0;34m\u001b[0m\u001b[0;34m\u001b[0m\u001b[0m\n\u001b[0m\u001b[1;32m      2\u001b[0m \u001b[0mtrain\u001b[0m\u001b[0;34m(\u001b[0m\u001b[0mmodel_2\u001b[0m\u001b[0;34m,\u001b[0m \u001b[0mbatch_size\u001b[0m\u001b[0;34m=\u001b[0m\u001b[0;36m64\u001b[0m\u001b[0;34m,\u001b[0m \u001b[0mtrain_dataset\u001b[0m\u001b[0;34m=\u001b[0m\u001b[0mtrain_dataset\u001b[0m\u001b[0;34m,\u001b[0m \u001b[0mvalid_dataset\u001b[0m\u001b[0;34m=\u001b[0m\u001b[0mvalid_dataset\u001b[0m\u001b[0;34m,\u001b[0m \u001b[0mnum_epochs\u001b[0m\u001b[0;34m=\u001b[0m\u001b[0;36m30\u001b[0m\u001b[0;34m,\u001b[0m \u001b[0mlearning_rate\u001b[0m\u001b[0;34m=\u001b[0m\u001b[0;36m5e-5\u001b[0m\u001b[0;34m,\u001b[0m \u001b[0mearly_stop\u001b[0m\u001b[0;34m=\u001b[0m\u001b[0;32mFalse\u001b[0m\u001b[0;34m,\u001b[0m \u001b[0mpatience\u001b[0m\u001b[0;34m=\u001b[0m\u001b[0;36m5\u001b[0m\u001b[0;34m,\u001b[0m \u001b[0mverbose\u001b[0m\u001b[0;34m=\u001b[0m\u001b[0;32mTrue\u001b[0m\u001b[0;34m)\u001b[0m\u001b[0;34m\u001b[0m\u001b[0;34m\u001b[0m\u001b[0m\n",
            "\u001b[0;31mNameError\u001b[0m: name 'DeepLSTMModel' is not defined"
          ]
        }
      ]
    },
    {
      "cell_type": "code",
      "source": [
        "# Retrain the model with full set of data, num_epochs = 5 (about 5 minutes)\n",
        "best_num_epochs = 5\n",
        "dataset = RNNDataset(df_train, selected_features=selected_features, seq_n=seq_n)\n",
        "\n",
        "model = DeepLSTMModel(input_size=input_size, dropout_prob=0.2).to(device)\n",
        "train(model,\n",
        "      batch_size=64,\n",
        "      train_dataset=dataset,\n",
        "      valid_dataset=None,\n",
        "      num_epochs=best_num_epochs,\n",
        "      learning_rate=1e-4,\n",
        "      verbose=True,\n",
        "      evaluation=False) # 5 minutes\n",
        "\n",
        "\n",
        "# Save the model state\n",
        "model_path = 'model_2.pth'\n",
        "print()\n",
        "torch.save(model.state_dict(), model_path)\n",
        "print(f\"Model saved to {model_path}\")"
      ],
      "metadata": {
        "id": "52BDToxomu2O",
        "colab": {
          "base_uri": "https://localhost:8080/"
        },
        "outputId": "5f080cd0-f005-4c0e-f710-fb5daadddde4"
      },
      "execution_count": null,
      "outputs": [
        {
          "metadata": {
            "tags": null
          },
          "name": "stderr",
          "output_type": "stream",
          "text": [
            ""
          ]
        },
        {
          "metadata": {
            "tags": null
          },
          "name": "stdout",
          "output_type": "stream",
          "text": [
            "Epoch [1/11]: \tTraining Loss: 0.9848\n"
          ]
        },
        {
          "metadata": {
            "tags": null
          },
          "name": "stderr",
          "output_type": "stream",
          "text": [
            ""
          ]
        },
        {
          "metadata": {
            "tags": null
          },
          "name": "stdout",
          "output_type": "stream",
          "text": [
            "Epoch [2/11]: \tTraining Loss: 0.9809\n"
          ]
        },
        {
          "metadata": {
            "tags": null
          },
          "name": "stderr",
          "output_type": "stream",
          "text": [
            ""
          ]
        },
        {
          "metadata": {
            "tags": null
          },
          "name": "stdout",
          "output_type": "stream",
          "text": [
            "Epoch [3/11]: \tTraining Loss: 0.9792\n"
          ]
        },
        {
          "metadata": {
            "tags": null
          },
          "name": "stderr",
          "output_type": "stream",
          "text": [
            ""
          ]
        },
        {
          "metadata": {
            "tags": null
          },
          "name": "stdout",
          "output_type": "stream",
          "text": [
            "Epoch [4/11]: \tTraining Loss: 0.9780\n"
          ]
        },
        {
          "metadata": {
            "tags": null
          },
          "name": "stderr",
          "output_type": "stream",
          "text": [
            ""
          ]
        },
        {
          "metadata": {
            "tags": null
          },
          "name": "stdout",
          "output_type": "stream",
          "text": [
            "Epoch [5/11]: \tTraining Loss: 0.9772\n"
          ]
        },
        {
          "metadata": {
            "tags": null
          },
          "name": "stderr",
          "output_type": "stream",
          "text": [
            ""
          ]
        },
        {
          "metadata": {
            "tags": null
          },
          "name": "stdout",
          "output_type": "stream",
          "text": [
            "Epoch [6/11]: \tTraining Loss: 0.9763\n"
          ]
        },
        {
          "metadata": {
            "tags": null
          },
          "name": "stderr",
          "output_type": "stream",
          "text": [
            ""
          ]
        },
        {
          "metadata": {
            "tags": null
          },
          "name": "stdout",
          "output_type": "stream",
          "text": [
            "Epoch [7/11]: \tTraining Loss: 0.9756\n"
          ]
        },
        {
          "metadata": {
            "tags": null
          },
          "name": "stderr",
          "output_type": "stream",
          "text": [
            ""
          ]
        },
        {
          "metadata": {
            "tags": null
          },
          "name": "stdout",
          "output_type": "stream",
          "text": [
            "Epoch [8/11]: \tTraining Loss: 0.9747\n"
          ]
        },
        {
          "metadata": {
            "tags": null
          },
          "name": "stderr",
          "output_type": "stream",
          "text": [
            ""
          ]
        },
        {
          "metadata": {
            "tags": null
          },
          "name": "stdout",
          "output_type": "stream",
          "text": [
            "Epoch [9/11]: \tTraining Loss: 0.9741\n"
          ]
        },
        {
          "metadata": {
            "tags": null
          },
          "name": "stderr",
          "output_type": "stream",
          "text": [
            ""
          ]
        },
        {
          "metadata": {
            "tags": null
          },
          "name": "stdout",
          "output_type": "stream",
          "text": [
            "Epoch [10/11]: \tTraining Loss: 0.9733\n"
          ]
        },
        {
          "output_type": "stream",
          "name": "stderr",
          "text": [
            "                                                                "
          ]
        },
        {
          "output_type": "stream",
          "name": "stdout",
          "text": [
            "Epoch [11/11]: \tTraining Loss: 0.9727\n",
            "\n",
            "Model saved to model_2.pth\n"
          ]
        },
        {
          "output_type": "stream",
          "name": "stderr",
          "text": [
            "\r"
          ]
        }
      ]
    },
    {
      "cell_type": "code",
      "source": [
        "# Load the model\n",
        "model = DeepLSTMModel(input_size=input_size, dropout_prob=0.2).to(device)\n",
        "model.load_state_dict(torch.load(model_path))"
      ],
      "metadata": {
        "colab": {
          "base_uri": "https://localhost:8080/"
        },
        "id": "xKLomXSTECSb",
        "outputId": "2cd5337d-3ea5-4d51-a335-56612e49ed82"
      },
      "execution_count": null,
      "outputs": [
        {
          "output_type": "execute_result",
          "data": {
            "text/plain": [
              "<All keys matched successfully>"
            ]
          },
          "metadata": {},
          "execution_count": 16
        }
      ]
    },
    {
      "cell_type": "code",
      "source": [
        "# Prepare the Dataset (Train)\n",
        "train_dates_list = df_train['Date'].unique()\n",
        "df_t = df_train.copy()\n",
        "df_t.index = [df_t['Date'], df_t['Ticker']]\n",
        "df_t = df_t.drop(['Date', 'Ticker'], axis=1)\n",
        "df_t = df_t.swaplevel().sort_index()\n",
        "sample_index = df_t.groupby('Ticker').shift(seq_n-1).dropna().index.tolist()\n",
        "inputs = df_t.loc[:, selected_features]\n",
        "data_list = []\n",
        "for sample in tqdm(sample_index, 'loading', leave=False):\n",
        "    data_list.append(df_to_tensor(inputs.loc[:sample].iloc[-seq_n:]))"
      ],
      "metadata": {
        "colab": {
          "base_uri": "https://localhost:8080/"
        },
        "id": "C5j6Xaav3j2g",
        "outputId": "aa5f17f6-6023-4d50-ab8f-d43dd56e0b01"
      },
      "execution_count": null,
      "outputs": [
        {
          "output_type": "stream",
          "name": "stderr",
          "text": []
        }
      ]
    },
    {
      "cell_type": "code",
      "source": [
        "# Predict Absolute Return\n",
        "y_train_pred = []\n",
        "for X_i in tqdm(data_list, 'Predicting', leave=False):\n",
        "    with torch.no_grad():\n",
        "        # y_i = model(X_i).detach().numpy().reshape(-1)\n",
        "        y_i = model(X_i.unsqueeze(0)).detach().cpu().numpy().reshape(-1)\n",
        "    y_train_pred.extend(y_i)\n",
        "df_t.loc[sample_index, 'Predicted Ret (Scaled)'] = np.array(y_train_pred)\n",
        "df_t = df_t.swaplevel().sort_index()\n",
        "df_t.reset_index(level=1, drop=False, inplace=True)\n",
        "df_t.reset_index(inplace=True)\n",
        "\n",
        "\n",
        "# Record Prediction: the Alpha Factor\n",
        "data_train_dl_2 = df_t.copy()[['Date', 'Ticker', 'Tomorrow Ret', 'Tomorrow Ret (Scaled) (Standardized)']]\n",
        "data_train_dl_2['Predicted Ret (Scaled)'] = np.nan\n",
        "data_train_dl_2['Predicted Ret (Scaled)'] = df_t['Predicted Ret (Scaled)']\n",
        "data_train_dl_2 = data_train_dl_2.dropna(subset=['Predicted Ret (Scaled)']).reset_index(drop=True)"
      ],
      "metadata": {
        "colab": {
          "base_uri": "https://localhost:8080/"
        },
        "id": "VUWddrPD5fH4",
        "outputId": "19705bcd-46c8-4081-a730-1b5d9a6ff733"
      },
      "execution_count": null,
      "outputs": [
        {
          "output_type": "stream",
          "name": "stderr",
          "text": []
        }
      ]
    },
    {
      "cell_type": "code",
      "source": [
        "# Prepare the Dataset (Test)\n",
        "test_dates_list = df_test['Date'].unique()\n",
        "df_t = df_test.copy()\n",
        "df_t.index = [df_t['Date'], df_t['Ticker']]\n",
        "df_t = df_t.drop(['Date', 'Ticker'], axis=1)\n",
        "df_t = df_t.swaplevel().sort_index()\n",
        "sample_index = df_t.groupby('Ticker').shift(seq_n-1).dropna().index.tolist()\n",
        "inputs = df_t.loc[:, selected_features]\n",
        "data_list = []\n",
        "for sample in tqdm(sample_index, 'loading', leave=False):\n",
        "    data_list.append(df_to_tensor(inputs.loc[:sample].iloc[-seq_n:]))"
      ],
      "metadata": {
        "id": "iTQwsOWfnefk"
      },
      "execution_count": null,
      "outputs": []
    },
    {
      "cell_type": "code",
      "source": [
        "# Predict Absolute Return\n",
        "y_test_pred = []\n",
        "for X_i in tqdm(data_list, 'Predicting', leave=False):\n",
        "    with torch.no_grad():\n",
        "        # y_i = model(X_i).detach().numpy().reshape(-1)\n",
        "        y_i = model(X_i.unsqueeze(0)).detach().cpu().numpy().reshape(-1)\n",
        "    y_test_pred.extend(y_i)\n",
        "df_t.loc[sample_index, 'Predicted Ret (Scaled)'] = np.array(y_test_pred)\n",
        "df_t = df_t.swaplevel().sort_index()\n",
        "df_t.reset_index(level=1, drop=False, inplace=True)\n",
        "df_t.reset_index(inplace=True)\n",
        "\n",
        "\n",
        "# Record Prediction: the Alpha Factor\n",
        "data_test_dl_2 = df_t.copy()[['Date', 'Ticker', 'Tomorrow Ret', 'Tomorrow Ret (Scaled) (Standardized)']]\n",
        "data_test_dl_2['Predicted Ret (Scaled)'] = np.nan\n",
        "data_test_dl_2['Predicted Ret (Scaled)'] = df_t['Predicted Ret (Scaled)']\n",
        "data_test_dl_2 = data_test_dl_2.dropna(subset=['Predicted Ret (Scaled)']).reset_index(drop=True)"
      ],
      "metadata": {
        "colab": {
          "base_uri": "https://localhost:8080/"
        },
        "id": "8zatkofqJP7O",
        "outputId": "e787124c-cf88-4d70-cd70-0bf0f9cde639"
      },
      "execution_count": null,
      "outputs": [
        {
          "output_type": "stream",
          "name": "stderr",
          "text": []
        }
      ]
    },
    {
      "cell_type": "code",
      "source": [
        "data_train_dl_2.head()"
      ],
      "metadata": {
        "colab": {
          "base_uri": "https://localhost:8080/",
          "height": 206
        },
        "id": "ScwWqu0uQQ9h",
        "outputId": "1644f098-a54a-4113-bb31-09ff35efcc15"
      },
      "execution_count": null,
      "outputs": [
        {
          "output_type": "execute_result",
          "data": {
            "text/plain": [
              "        Date     Ticker  Tomorrow Ret  Tomorrow Ret (Scaled) (Standardized)  \\\n",
              "0 2021-05-19  000001.SZ      0.009322                              0.578286   \n",
              "1 2021-05-19  000002.SZ      0.007471                              0.498706   \n",
              "2 2021-05-19  000004.SZ     -0.003303                              0.035518   \n",
              "3 2021-05-19  000005.SZ     -0.049451                             -1.948529   \n",
              "4 2021-05-19  000006.SZ     -0.013060                             -0.383974   \n",
              "\n",
              "   Predicted Ret (Scaled)  \n",
              "0                0.056214  \n",
              "1                0.018649  \n",
              "2               -0.027932  \n",
              "3                0.111366  \n",
              "4                0.038801  "
            ],
            "text/html": [
              "\n",
              "  <div id=\"df-0ddda6a3-779e-476b-918a-8c187fa1dca1\" class=\"colab-df-container\">\n",
              "    <div>\n",
              "<style scoped>\n",
              "    .dataframe tbody tr th:only-of-type {\n",
              "        vertical-align: middle;\n",
              "    }\n",
              "\n",
              "    .dataframe tbody tr th {\n",
              "        vertical-align: top;\n",
              "    }\n",
              "\n",
              "    .dataframe thead th {\n",
              "        text-align: right;\n",
              "    }\n",
              "</style>\n",
              "<table border=\"1\" class=\"dataframe\">\n",
              "  <thead>\n",
              "    <tr style=\"text-align: right;\">\n",
              "      <th></th>\n",
              "      <th>Date</th>\n",
              "      <th>Ticker</th>\n",
              "      <th>Tomorrow Ret</th>\n",
              "      <th>Tomorrow Ret (Scaled) (Standardized)</th>\n",
              "      <th>Predicted Ret (Scaled)</th>\n",
              "    </tr>\n",
              "  </thead>\n",
              "  <tbody>\n",
              "    <tr>\n",
              "      <th>0</th>\n",
              "      <td>2021-05-19</td>\n",
              "      <td>000001.SZ</td>\n",
              "      <td>0.009322</td>\n",
              "      <td>0.578286</td>\n",
              "      <td>0.056214</td>\n",
              "    </tr>\n",
              "    <tr>\n",
              "      <th>1</th>\n",
              "      <td>2021-05-19</td>\n",
              "      <td>000002.SZ</td>\n",
              "      <td>0.007471</td>\n",
              "      <td>0.498706</td>\n",
              "      <td>0.018649</td>\n",
              "    </tr>\n",
              "    <tr>\n",
              "      <th>2</th>\n",
              "      <td>2021-05-19</td>\n",
              "      <td>000004.SZ</td>\n",
              "      <td>-0.003303</td>\n",
              "      <td>0.035518</td>\n",
              "      <td>-0.027932</td>\n",
              "    </tr>\n",
              "    <tr>\n",
              "      <th>3</th>\n",
              "      <td>2021-05-19</td>\n",
              "      <td>000005.SZ</td>\n",
              "      <td>-0.049451</td>\n",
              "      <td>-1.948529</td>\n",
              "      <td>0.111366</td>\n",
              "    </tr>\n",
              "    <tr>\n",
              "      <th>4</th>\n",
              "      <td>2021-05-19</td>\n",
              "      <td>000006.SZ</td>\n",
              "      <td>-0.013060</td>\n",
              "      <td>-0.383974</td>\n",
              "      <td>0.038801</td>\n",
              "    </tr>\n",
              "  </tbody>\n",
              "</table>\n",
              "</div>\n",
              "    <div class=\"colab-df-buttons\">\n",
              "\n",
              "  <div class=\"colab-df-container\">\n",
              "    <button class=\"colab-df-convert\" onclick=\"convertToInteractive('df-0ddda6a3-779e-476b-918a-8c187fa1dca1')\"\n",
              "            title=\"Convert this dataframe to an interactive table.\"\n",
              "            style=\"display:none;\">\n",
              "\n",
              "  <svg xmlns=\"http://www.w3.org/2000/svg\" height=\"24px\" viewBox=\"0 -960 960 960\">\n",
              "    <path d=\"M120-120v-720h720v720H120Zm60-500h600v-160H180v160Zm220 220h160v-160H400v160Zm0 220h160v-160H400v160ZM180-400h160v-160H180v160Zm440 0h160v-160H620v160ZM180-180h160v-160H180v160Zm440 0h160v-160H620v160Z\"/>\n",
              "  </svg>\n",
              "    </button>\n",
              "\n",
              "  <style>\n",
              "    .colab-df-container {\n",
              "      display:flex;\n",
              "      gap: 12px;\n",
              "    }\n",
              "\n",
              "    .colab-df-convert {\n",
              "      background-color: #E8F0FE;\n",
              "      border: none;\n",
              "      border-radius: 50%;\n",
              "      cursor: pointer;\n",
              "      display: none;\n",
              "      fill: #1967D2;\n",
              "      height: 32px;\n",
              "      padding: 0 0 0 0;\n",
              "      width: 32px;\n",
              "    }\n",
              "\n",
              "    .colab-df-convert:hover {\n",
              "      background-color: #E2EBFA;\n",
              "      box-shadow: 0px 1px 2px rgba(60, 64, 67, 0.3), 0px 1px 3px 1px rgba(60, 64, 67, 0.15);\n",
              "      fill: #174EA6;\n",
              "    }\n",
              "\n",
              "    .colab-df-buttons div {\n",
              "      margin-bottom: 4px;\n",
              "    }\n",
              "\n",
              "    [theme=dark] .colab-df-convert {\n",
              "      background-color: #3B4455;\n",
              "      fill: #D2E3FC;\n",
              "    }\n",
              "\n",
              "    [theme=dark] .colab-df-convert:hover {\n",
              "      background-color: #434B5C;\n",
              "      box-shadow: 0px 1px 3px 1px rgba(0, 0, 0, 0.15);\n",
              "      filter: drop-shadow(0px 1px 2px rgba(0, 0, 0, 0.3));\n",
              "      fill: #FFFFFF;\n",
              "    }\n",
              "  </style>\n",
              "\n",
              "    <script>\n",
              "      const buttonEl =\n",
              "        document.querySelector('#df-0ddda6a3-779e-476b-918a-8c187fa1dca1 button.colab-df-convert');\n",
              "      buttonEl.style.display =\n",
              "        google.colab.kernel.accessAllowed ? 'block' : 'none';\n",
              "\n",
              "      async function convertToInteractive(key) {\n",
              "        const element = document.querySelector('#df-0ddda6a3-779e-476b-918a-8c187fa1dca1');\n",
              "        const dataTable =\n",
              "          await google.colab.kernel.invokeFunction('convertToInteractive',\n",
              "                                                    [key], {});\n",
              "        if (!dataTable) return;\n",
              "\n",
              "        const docLinkHtml = 'Like what you see? Visit the ' +\n",
              "          '<a target=\"_blank\" href=https://colab.research.google.com/notebooks/data_table.ipynb>data table notebook</a>'\n",
              "          + ' to learn more about interactive tables.';\n",
              "        element.innerHTML = '';\n",
              "        dataTable['output_type'] = 'display_data';\n",
              "        await google.colab.output.renderOutput(dataTable, element);\n",
              "        const docLink = document.createElement('div');\n",
              "        docLink.innerHTML = docLinkHtml;\n",
              "        element.appendChild(docLink);\n",
              "      }\n",
              "    </script>\n",
              "  </div>\n",
              "\n",
              "\n",
              "<div id=\"df-4a3ba029-3a86-4589-9458-9c7fe79878f0\">\n",
              "  <button class=\"colab-df-quickchart\" onclick=\"quickchart('df-4a3ba029-3a86-4589-9458-9c7fe79878f0')\"\n",
              "            title=\"Suggest charts\"\n",
              "            style=\"display:none;\">\n",
              "\n",
              "<svg xmlns=\"http://www.w3.org/2000/svg\" height=\"24px\"viewBox=\"0 0 24 24\"\n",
              "     width=\"24px\">\n",
              "    <g>\n",
              "        <path d=\"M19 3H5c-1.1 0-2 .9-2 2v14c0 1.1.9 2 2 2h14c1.1 0 2-.9 2-2V5c0-1.1-.9-2-2-2zM9 17H7v-7h2v7zm4 0h-2V7h2v10zm4 0h-2v-4h2v4z\"/>\n",
              "    </g>\n",
              "</svg>\n",
              "  </button>\n",
              "\n",
              "<style>\n",
              "  .colab-df-quickchart {\n",
              "      --bg-color: #E8F0FE;\n",
              "      --fill-color: #1967D2;\n",
              "      --hover-bg-color: #E2EBFA;\n",
              "      --hover-fill-color: #174EA6;\n",
              "      --disabled-fill-color: #AAA;\n",
              "      --disabled-bg-color: #DDD;\n",
              "  }\n",
              "\n",
              "  [theme=dark] .colab-df-quickchart {\n",
              "      --bg-color: #3B4455;\n",
              "      --fill-color: #D2E3FC;\n",
              "      --hover-bg-color: #434B5C;\n",
              "      --hover-fill-color: #FFFFFF;\n",
              "      --disabled-bg-color: #3B4455;\n",
              "      --disabled-fill-color: #666;\n",
              "  }\n",
              "\n",
              "  .colab-df-quickchart {\n",
              "    background-color: var(--bg-color);\n",
              "    border: none;\n",
              "    border-radius: 50%;\n",
              "    cursor: pointer;\n",
              "    display: none;\n",
              "    fill: var(--fill-color);\n",
              "    height: 32px;\n",
              "    padding: 0;\n",
              "    width: 32px;\n",
              "  }\n",
              "\n",
              "  .colab-df-quickchart:hover {\n",
              "    background-color: var(--hover-bg-color);\n",
              "    box-shadow: 0 1px 2px rgba(60, 64, 67, 0.3), 0 1px 3px 1px rgba(60, 64, 67, 0.15);\n",
              "    fill: var(--button-hover-fill-color);\n",
              "  }\n",
              "\n",
              "  .colab-df-quickchart-complete:disabled,\n",
              "  .colab-df-quickchart-complete:disabled:hover {\n",
              "    background-color: var(--disabled-bg-color);\n",
              "    fill: var(--disabled-fill-color);\n",
              "    box-shadow: none;\n",
              "  }\n",
              "\n",
              "  .colab-df-spinner {\n",
              "    border: 2px solid var(--fill-color);\n",
              "    border-color: transparent;\n",
              "    border-bottom-color: var(--fill-color);\n",
              "    animation:\n",
              "      spin 1s steps(1) infinite;\n",
              "  }\n",
              "\n",
              "  @keyframes spin {\n",
              "    0% {\n",
              "      border-color: transparent;\n",
              "      border-bottom-color: var(--fill-color);\n",
              "      border-left-color: var(--fill-color);\n",
              "    }\n",
              "    20% {\n",
              "      border-color: transparent;\n",
              "      border-left-color: var(--fill-color);\n",
              "      border-top-color: var(--fill-color);\n",
              "    }\n",
              "    30% {\n",
              "      border-color: transparent;\n",
              "      border-left-color: var(--fill-color);\n",
              "      border-top-color: var(--fill-color);\n",
              "      border-right-color: var(--fill-color);\n",
              "    }\n",
              "    40% {\n",
              "      border-color: transparent;\n",
              "      border-right-color: var(--fill-color);\n",
              "      border-top-color: var(--fill-color);\n",
              "    }\n",
              "    60% {\n",
              "      border-color: transparent;\n",
              "      border-right-color: var(--fill-color);\n",
              "    }\n",
              "    80% {\n",
              "      border-color: transparent;\n",
              "      border-right-color: var(--fill-color);\n",
              "      border-bottom-color: var(--fill-color);\n",
              "    }\n",
              "    90% {\n",
              "      border-color: transparent;\n",
              "      border-bottom-color: var(--fill-color);\n",
              "    }\n",
              "  }\n",
              "</style>\n",
              "\n",
              "  <script>\n",
              "    async function quickchart(key) {\n",
              "      const quickchartButtonEl =\n",
              "        document.querySelector('#' + key + ' button');\n",
              "      quickchartButtonEl.disabled = true;  // To prevent multiple clicks.\n",
              "      quickchartButtonEl.classList.add('colab-df-spinner');\n",
              "      try {\n",
              "        const charts = await google.colab.kernel.invokeFunction(\n",
              "            'suggestCharts', [key], {});\n",
              "      } catch (error) {\n",
              "        console.error('Error during call to suggestCharts:', error);\n",
              "      }\n",
              "      quickchartButtonEl.classList.remove('colab-df-spinner');\n",
              "      quickchartButtonEl.classList.add('colab-df-quickchart-complete');\n",
              "    }\n",
              "    (() => {\n",
              "      let quickchartButtonEl =\n",
              "        document.querySelector('#df-4a3ba029-3a86-4589-9458-9c7fe79878f0 button');\n",
              "      quickchartButtonEl.style.display =\n",
              "        google.colab.kernel.accessAllowed ? 'block' : 'none';\n",
              "    })();\n",
              "  </script>\n",
              "</div>\n",
              "    </div>\n",
              "  </div>\n"
            ],
            "application/vnd.google.colaboratory.intrinsic+json": {
              "type": "dataframe",
              "variable_name": "data_train_dl_2"
            }
          },
          "metadata": {},
          "execution_count": 40
        }
      ]
    },
    {
      "cell_type": "code",
      "source": [
        "data_test_dl_2.head()"
      ],
      "metadata": {
        "id": "ewZCQ166ooke",
        "colab": {
          "base_uri": "https://localhost:8080/",
          "height": 206
        },
        "outputId": "648337f2-b324-4daa-802b-102239c6aea2"
      },
      "execution_count": null,
      "outputs": [
        {
          "output_type": "execute_result",
          "data": {
            "text/plain": [
              "        Date     Ticker  Tomorrow Ret  Tomorrow Ret (Scaled) (Standardized)  \\\n",
              "0 2022-05-27  000001.SZ     -0.007052                             -0.688607   \n",
              "1 2022-05-27  000002.SZ     -0.017641                             -1.167042   \n",
              "2 2022-05-27  000004.SZ      0.019108                              0.493450   \n",
              "3 2022-05-27  000005.SZ      0.000000                             -0.369955   \n",
              "4 2022-05-27  000006.SZ     -0.004566                             -0.576279   \n",
              "\n",
              "   Predicted Ret (Scaled)  \n",
              "0                0.019554  \n",
              "1                0.010873  \n",
              "2                0.010525  \n",
              "3                0.045087  \n",
              "4               -0.028082  "
            ],
            "text/html": [
              "\n",
              "  <div id=\"df-db7394dc-bcca-4ee2-874e-4fff87edbec1\" class=\"colab-df-container\">\n",
              "    <div>\n",
              "<style scoped>\n",
              "    .dataframe tbody tr th:only-of-type {\n",
              "        vertical-align: middle;\n",
              "    }\n",
              "\n",
              "    .dataframe tbody tr th {\n",
              "        vertical-align: top;\n",
              "    }\n",
              "\n",
              "    .dataframe thead th {\n",
              "        text-align: right;\n",
              "    }\n",
              "</style>\n",
              "<table border=\"1\" class=\"dataframe\">\n",
              "  <thead>\n",
              "    <tr style=\"text-align: right;\">\n",
              "      <th></th>\n",
              "      <th>Date</th>\n",
              "      <th>Ticker</th>\n",
              "      <th>Tomorrow Ret</th>\n",
              "      <th>Tomorrow Ret (Scaled) (Standardized)</th>\n",
              "      <th>Predicted Ret (Scaled)</th>\n",
              "    </tr>\n",
              "  </thead>\n",
              "  <tbody>\n",
              "    <tr>\n",
              "      <th>0</th>\n",
              "      <td>2022-05-27</td>\n",
              "      <td>000001.SZ</td>\n",
              "      <td>-0.007052</td>\n",
              "      <td>-0.688607</td>\n",
              "      <td>0.019554</td>\n",
              "    </tr>\n",
              "    <tr>\n",
              "      <th>1</th>\n",
              "      <td>2022-05-27</td>\n",
              "      <td>000002.SZ</td>\n",
              "      <td>-0.017641</td>\n",
              "      <td>-1.167042</td>\n",
              "      <td>0.010873</td>\n",
              "    </tr>\n",
              "    <tr>\n",
              "      <th>2</th>\n",
              "      <td>2022-05-27</td>\n",
              "      <td>000004.SZ</td>\n",
              "      <td>0.019108</td>\n",
              "      <td>0.493450</td>\n",
              "      <td>0.010525</td>\n",
              "    </tr>\n",
              "    <tr>\n",
              "      <th>3</th>\n",
              "      <td>2022-05-27</td>\n",
              "      <td>000005.SZ</td>\n",
              "      <td>0.000000</td>\n",
              "      <td>-0.369955</td>\n",
              "      <td>0.045087</td>\n",
              "    </tr>\n",
              "    <tr>\n",
              "      <th>4</th>\n",
              "      <td>2022-05-27</td>\n",
              "      <td>000006.SZ</td>\n",
              "      <td>-0.004566</td>\n",
              "      <td>-0.576279</td>\n",
              "      <td>-0.028082</td>\n",
              "    </tr>\n",
              "  </tbody>\n",
              "</table>\n",
              "</div>\n",
              "    <div class=\"colab-df-buttons\">\n",
              "\n",
              "  <div class=\"colab-df-container\">\n",
              "    <button class=\"colab-df-convert\" onclick=\"convertToInteractive('df-db7394dc-bcca-4ee2-874e-4fff87edbec1')\"\n",
              "            title=\"Convert this dataframe to an interactive table.\"\n",
              "            style=\"display:none;\">\n",
              "\n",
              "  <svg xmlns=\"http://www.w3.org/2000/svg\" height=\"24px\" viewBox=\"0 -960 960 960\">\n",
              "    <path d=\"M120-120v-720h720v720H120Zm60-500h600v-160H180v160Zm220 220h160v-160H400v160Zm0 220h160v-160H400v160ZM180-400h160v-160H180v160Zm440 0h160v-160H620v160ZM180-180h160v-160H180v160Zm440 0h160v-160H620v160Z\"/>\n",
              "  </svg>\n",
              "    </button>\n",
              "\n",
              "  <style>\n",
              "    .colab-df-container {\n",
              "      display:flex;\n",
              "      gap: 12px;\n",
              "    }\n",
              "\n",
              "    .colab-df-convert {\n",
              "      background-color: #E8F0FE;\n",
              "      border: none;\n",
              "      border-radius: 50%;\n",
              "      cursor: pointer;\n",
              "      display: none;\n",
              "      fill: #1967D2;\n",
              "      height: 32px;\n",
              "      padding: 0 0 0 0;\n",
              "      width: 32px;\n",
              "    }\n",
              "\n",
              "    .colab-df-convert:hover {\n",
              "      background-color: #E2EBFA;\n",
              "      box-shadow: 0px 1px 2px rgba(60, 64, 67, 0.3), 0px 1px 3px 1px rgba(60, 64, 67, 0.15);\n",
              "      fill: #174EA6;\n",
              "    }\n",
              "\n",
              "    .colab-df-buttons div {\n",
              "      margin-bottom: 4px;\n",
              "    }\n",
              "\n",
              "    [theme=dark] .colab-df-convert {\n",
              "      background-color: #3B4455;\n",
              "      fill: #D2E3FC;\n",
              "    }\n",
              "\n",
              "    [theme=dark] .colab-df-convert:hover {\n",
              "      background-color: #434B5C;\n",
              "      box-shadow: 0px 1px 3px 1px rgba(0, 0, 0, 0.15);\n",
              "      filter: drop-shadow(0px 1px 2px rgba(0, 0, 0, 0.3));\n",
              "      fill: #FFFFFF;\n",
              "    }\n",
              "  </style>\n",
              "\n",
              "    <script>\n",
              "      const buttonEl =\n",
              "        document.querySelector('#df-db7394dc-bcca-4ee2-874e-4fff87edbec1 button.colab-df-convert');\n",
              "      buttonEl.style.display =\n",
              "        google.colab.kernel.accessAllowed ? 'block' : 'none';\n",
              "\n",
              "      async function convertToInteractive(key) {\n",
              "        const element = document.querySelector('#df-db7394dc-bcca-4ee2-874e-4fff87edbec1');\n",
              "        const dataTable =\n",
              "          await google.colab.kernel.invokeFunction('convertToInteractive',\n",
              "                                                    [key], {});\n",
              "        if (!dataTable) return;\n",
              "\n",
              "        const docLinkHtml = 'Like what you see? Visit the ' +\n",
              "          '<a target=\"_blank\" href=https://colab.research.google.com/notebooks/data_table.ipynb>data table notebook</a>'\n",
              "          + ' to learn more about interactive tables.';\n",
              "        element.innerHTML = '';\n",
              "        dataTable['output_type'] = 'display_data';\n",
              "        await google.colab.output.renderOutput(dataTable, element);\n",
              "        const docLink = document.createElement('div');\n",
              "        docLink.innerHTML = docLinkHtml;\n",
              "        element.appendChild(docLink);\n",
              "      }\n",
              "    </script>\n",
              "  </div>\n",
              "\n",
              "\n",
              "<div id=\"df-08416ba6-a0eb-403a-99dd-80ef462b497b\">\n",
              "  <button class=\"colab-df-quickchart\" onclick=\"quickchart('df-08416ba6-a0eb-403a-99dd-80ef462b497b')\"\n",
              "            title=\"Suggest charts\"\n",
              "            style=\"display:none;\">\n",
              "\n",
              "<svg xmlns=\"http://www.w3.org/2000/svg\" height=\"24px\"viewBox=\"0 0 24 24\"\n",
              "     width=\"24px\">\n",
              "    <g>\n",
              "        <path d=\"M19 3H5c-1.1 0-2 .9-2 2v14c0 1.1.9 2 2 2h14c1.1 0 2-.9 2-2V5c0-1.1-.9-2-2-2zM9 17H7v-7h2v7zm4 0h-2V7h2v10zm4 0h-2v-4h2v4z\"/>\n",
              "    </g>\n",
              "</svg>\n",
              "  </button>\n",
              "\n",
              "<style>\n",
              "  .colab-df-quickchart {\n",
              "      --bg-color: #E8F0FE;\n",
              "      --fill-color: #1967D2;\n",
              "      --hover-bg-color: #E2EBFA;\n",
              "      --hover-fill-color: #174EA6;\n",
              "      --disabled-fill-color: #AAA;\n",
              "      --disabled-bg-color: #DDD;\n",
              "  }\n",
              "\n",
              "  [theme=dark] .colab-df-quickchart {\n",
              "      --bg-color: #3B4455;\n",
              "      --fill-color: #D2E3FC;\n",
              "      --hover-bg-color: #434B5C;\n",
              "      --hover-fill-color: #FFFFFF;\n",
              "      --disabled-bg-color: #3B4455;\n",
              "      --disabled-fill-color: #666;\n",
              "  }\n",
              "\n",
              "  .colab-df-quickchart {\n",
              "    background-color: var(--bg-color);\n",
              "    border: none;\n",
              "    border-radius: 50%;\n",
              "    cursor: pointer;\n",
              "    display: none;\n",
              "    fill: var(--fill-color);\n",
              "    height: 32px;\n",
              "    padding: 0;\n",
              "    width: 32px;\n",
              "  }\n",
              "\n",
              "  .colab-df-quickchart:hover {\n",
              "    background-color: var(--hover-bg-color);\n",
              "    box-shadow: 0 1px 2px rgba(60, 64, 67, 0.3), 0 1px 3px 1px rgba(60, 64, 67, 0.15);\n",
              "    fill: var(--button-hover-fill-color);\n",
              "  }\n",
              "\n",
              "  .colab-df-quickchart-complete:disabled,\n",
              "  .colab-df-quickchart-complete:disabled:hover {\n",
              "    background-color: var(--disabled-bg-color);\n",
              "    fill: var(--disabled-fill-color);\n",
              "    box-shadow: none;\n",
              "  }\n",
              "\n",
              "  .colab-df-spinner {\n",
              "    border: 2px solid var(--fill-color);\n",
              "    border-color: transparent;\n",
              "    border-bottom-color: var(--fill-color);\n",
              "    animation:\n",
              "      spin 1s steps(1) infinite;\n",
              "  }\n",
              "\n",
              "  @keyframes spin {\n",
              "    0% {\n",
              "      border-color: transparent;\n",
              "      border-bottom-color: var(--fill-color);\n",
              "      border-left-color: var(--fill-color);\n",
              "    }\n",
              "    20% {\n",
              "      border-color: transparent;\n",
              "      border-left-color: var(--fill-color);\n",
              "      border-top-color: var(--fill-color);\n",
              "    }\n",
              "    30% {\n",
              "      border-color: transparent;\n",
              "      border-left-color: var(--fill-color);\n",
              "      border-top-color: var(--fill-color);\n",
              "      border-right-color: var(--fill-color);\n",
              "    }\n",
              "    40% {\n",
              "      border-color: transparent;\n",
              "      border-right-color: var(--fill-color);\n",
              "      border-top-color: var(--fill-color);\n",
              "    }\n",
              "    60% {\n",
              "      border-color: transparent;\n",
              "      border-right-color: var(--fill-color);\n",
              "    }\n",
              "    80% {\n",
              "      border-color: transparent;\n",
              "      border-right-color: var(--fill-color);\n",
              "      border-bottom-color: var(--fill-color);\n",
              "    }\n",
              "    90% {\n",
              "      border-color: transparent;\n",
              "      border-bottom-color: var(--fill-color);\n",
              "    }\n",
              "  }\n",
              "</style>\n",
              "\n",
              "  <script>\n",
              "    async function quickchart(key) {\n",
              "      const quickchartButtonEl =\n",
              "        document.querySelector('#' + key + ' button');\n",
              "      quickchartButtonEl.disabled = true;  // To prevent multiple clicks.\n",
              "      quickchartButtonEl.classList.add('colab-df-spinner');\n",
              "      try {\n",
              "        const charts = await google.colab.kernel.invokeFunction(\n",
              "            'suggestCharts', [key], {});\n",
              "      } catch (error) {\n",
              "        console.error('Error during call to suggestCharts:', error);\n",
              "      }\n",
              "      quickchartButtonEl.classList.remove('colab-df-spinner');\n",
              "      quickchartButtonEl.classList.add('colab-df-quickchart-complete');\n",
              "    }\n",
              "    (() => {\n",
              "      let quickchartButtonEl =\n",
              "        document.querySelector('#df-08416ba6-a0eb-403a-99dd-80ef462b497b button');\n",
              "      quickchartButtonEl.style.display =\n",
              "        google.colab.kernel.accessAllowed ? 'block' : 'none';\n",
              "    })();\n",
              "  </script>\n",
              "</div>\n",
              "    </div>\n",
              "  </div>\n"
            ],
            "application/vnd.google.colaboratory.intrinsic+json": {
              "type": "dataframe",
              "variable_name": "data_test_dl_2"
            }
          },
          "metadata": {},
          "execution_count": 34
        }
      ]
    },
    {
      "cell_type": "code",
      "source": [
        "data_train_dl_2.to_hdf('data_train_dl_2.h5', key='data', mode='w')\n",
        "data_test_dl_2.to_hdf('data_test_dl_2.h5', key='data', mode='w')"
      ],
      "metadata": {
        "id": "1qQ-wZluuB80"
      },
      "execution_count": null,
      "outputs": []
    },
    {
      "cell_type": "markdown",
      "source": [
        "Let's quickly check the model's performance."
      ],
      "metadata": {
        "id": "jO92_fe3QVOY"
      }
    },
    {
      "cell_type": "code",
      "source": [
        "sns.set_style(\"whitegrid\")\n",
        "\n",
        "plt.figure(figsize=(10, 10))\n",
        "sns.scatterplot(x='Tomorrow Ret (Scaled) (Standardized)', y='Predicted Ret (Scaled)', data=data_train_dl_2[data_train_dl_2['Date'] == '2022-04-29'])\n",
        "sns.regplot(x='Tomorrow Ret (Scaled) (Standardized)', y='Predicted Ret (Scaled)', data=data_train_dl_2[data_train_dl_2['Date'] == '2022-04-29'],\n",
        "            scatter_kws={'alpha':0.5}, line_kws={'color':'red'})\n",
        "\n",
        "plt.title('Real vs Predicted Values')\n",
        "plt.xlabel('Relative Return')\n",
        "plt.ylabel('Factor')\n",
        "plt.tight_layout()\n",
        "\n",
        "plt.show()"
      ],
      "metadata": {
        "colab": {
          "base_uri": "https://localhost:8080/",
          "height": 1000
        },
        "id": "OmK87wTjQqbD",
        "outputId": "ea7316e4-717d-4a1a-c32d-70f46559d142"
      },
      "execution_count": null,
      "outputs": [
        {
          "output_type": "display_data",
          "data": {
            "text/plain": [
              "<Figure size 1000x1000 with 1 Axes>"
            ],
            "image/png": "[encoded data removed]"
          },
          "metadata": {}
        }
      ]
    },
    {
      "cell_type": "markdown",
      "source": [
        "## 3. Factor Testing"
      ],
      "metadata": {
        "id": "Zf9DN6SUCjmS"
      }
    },
    {
      "cell_type": "markdown",
      "source": [
        "I follow the alpha factor testing framework [2].\n",
        "\n",
        "> **⚠️ IMPORTANT**: Testing Period: 2022-05-15 to 2022-12-31"
      ],
      "metadata": {
        "id": "bCbPUPw5CzLB"
      }
    },
    {
      "cell_type": "code",
      "source": [
        "# Load the factor data\n",
        "data_test_dl = pd.read_hdf('data_test_dl_2.h5', key='data')\n",
        "backtest_date = data_test_dl['Date'].unique()\n",
        "\n",
        "# Preprocessing\n",
        "data_test_dl['DL Factor (Standardized)'] = data_test_dl.groupby('Date')['Predicted Ret (Scaled)'].transform(winsorize_field) # Winsorization\n",
        "data_test_dl['DL Factor (Standardized)'] = (data_test_dl['DL Factor (Standardized)'] - data_test_dl.groupby('Date')['DL Factor (Standardized)'].transform('mean')) / data_test_dl.groupby('Date')['DL Factor (Standardized)'].transform('std') # Standardization\n",
        "data_test_dl['DL Factor (Standardized)'].fillna(0.0, inplace=True)\n",
        "data_test_dl['DL Factor (Standardized)'].replace([np.inf, -np.inf], 0.0, inplace=True)\n",
        "data_test_dl = data_test_dl.drop(columns=['Predicted Ret (Scaled)'])\n",
        "\n",
        "# Merge Industry and MktCap data\n",
        "df_ind = pd.read_csv('industry.csv', encoding='GBK').rename(columns={'代码': 'Ticker', '长江二级行业': 'Industry', '日期': 'Date'})\n",
        "df_ind['Date'] = pd.to_datetime(df_ind['Date'])\n",
        "df_ind = df_ind[df_ind['Date'] == backtest_date[-1]]\n",
        "df_ind = df_ind[df_ind['Ticker'].isin(data_test_dl['Ticker'].unique())]\n",
        "df_ind.index = df_ind['Ticker']\n",
        "ind_map = df_ind['Industry'].to_dict()\n",
        "data_test_dl['Industry'] = data_test_dl['Ticker'].map(ind_map)\n",
        "\n",
        "df_mktcap = pd.read_csv('market_cap.csv').rename(columns={'DATETIME': 'Date'})\n",
        "df_mktcap['Date'] = pd.to_datetime(df_mktcap['Date'])\n",
        "df_mktcap = df_mktcap[df_mktcap['Date'].isin(backtest_date)]\n",
        "df_mktcap = pd.melt(df_mktcap.reset_index(drop=True), id_vars='Date', var_name='Ticker', value_name='MktCap')\n",
        "data_test_dl = pd.merge(data_test_dl, df_mktcap, on=['Date', 'Ticker'], how='left')\n",
        "data_test_dl = data_test_dl.dropna()\n",
        "\n",
        "del df_ind\n",
        "del df_mktcap\n",
        "\n",
        "data_test_dl.head()"
      ],
      "metadata": {
        "colab": {
          "base_uri": "https://localhost:8080/",
          "height": 206
        },
        "id": "aEqmIQ5Ts_fZ",
        "outputId": "fbb25532-5220-4b25-a10d-665b001e6f72"
      },
      "execution_count": null,
      "outputs": [
        {
          "output_type": "execute_result",
          "data": {
            "text/plain": [
              "        Date     Ticker  Tomorrow Ret  Tomorrow Ret (Scaled) (Standardized)  \\\n",
              "0 2022-05-27  000001.SZ     -0.007052                             -0.688607   \n",
              "1 2022-05-27  000002.SZ     -0.017641                             -1.167042   \n",
              "2 2022-05-27  000004.SZ      0.019108                              0.493450   \n",
              "3 2022-05-27  000005.SZ      0.000000                             -0.369955   \n",
              "4 2022-05-27  000006.SZ     -0.004566                             -0.576279   \n",
              "\n",
              "   DL Factor (Standardized)   Industry        MktCap  \n",
              "0                  0.229830  002094.CJ  2.751759e+11  \n",
              "1                  0.093312  002118.CJ  2.108845e+11  \n",
              "2                  0.087833  002112.CJ  1.469549e+09  \n",
              "3                  0.631381  002059.CJ  1.968879e+09  \n",
              "4                 -0.519335  002118.CJ  5.912978e+09  "
            ],
            "text/html": [
              "\n",
              "  <div id=\"df-d8562be5-382a-4fb2-bb1a-c11b7a922d7f\" class=\"colab-df-container\">\n",
              "    <div>\n",
              "<style scoped>\n",
              "    .dataframe tbody tr th:only-of-type {\n",
              "        vertical-align: middle;\n",
              "    }\n",
              "\n",
              "    .dataframe tbody tr th {\n",
              "        vertical-align: top;\n",
              "    }\n",
              "\n",
              "    .dataframe thead th {\n",
              "        text-align: right;\n",
              "    }\n",
              "</style>\n",
              "<table border=\"1\" class=\"dataframe\">\n",
              "  <thead>\n",
              "    <tr style=\"text-align: right;\">\n",
              "      <th></th>\n",
              "      <th>Date</th>\n",
              "      <th>Ticker</th>\n",
              "      <th>Tomorrow Ret</th>\n",
              "      <th>Tomorrow Ret (Scaled) (Standardized)</th>\n",
              "      <th>DL Factor (Standardized)</th>\n",
              "      <th>Industry</th>\n",
              "      <th>MktCap</th>\n",
              "    </tr>\n",
              "  </thead>\n",
              "  <tbody>\n",
              "    <tr>\n",
              "      <th>0</th>\n",
              "      <td>2022-05-27</td>\n",
              "      <td>000001.SZ</td>\n",
              "      <td>-0.007052</td>\n",
              "      <td>-0.688607</td>\n",
              "      <td>0.229830</td>\n",
              "      <td>002094.CJ</td>\n",
              "      <td>2.751759e+11</td>\n",
              "    </tr>\n",
              "    <tr>\n",
              "      <th>1</th>\n",
              "      <td>2022-05-27</td>\n",
              "      <td>000002.SZ</td>\n",
              "      <td>-0.017641</td>\n",
              "      <td>-1.167042</td>\n",
              "      <td>0.093312</td>\n",
              "      <td>002118.CJ</td>\n",
              "      <td>2.108845e+11</td>\n",
              "    </tr>\n",
              "    <tr>\n",
              "      <th>2</th>\n",
              "      <td>2022-05-27</td>\n",
              "      <td>000004.SZ</td>\n",
              "      <td>0.019108</td>\n",
              "      <td>0.493450</td>\n",
              "      <td>0.087833</td>\n",
              "      <td>002112.CJ</td>\n",
              "      <td>1.469549e+09</td>\n",
              "    </tr>\n",
              "    <tr>\n",
              "      <th>3</th>\n",
              "      <td>2022-05-27</td>\n",
              "      <td>000005.SZ</td>\n",
              "      <td>0.000000</td>\n",
              "      <td>-0.369955</td>\n",
              "      <td>0.631381</td>\n",
              "      <td>002059.CJ</td>\n",
              "      <td>1.968879e+09</td>\n",
              "    </tr>\n",
              "    <tr>\n",
              "      <th>4</th>\n",
              "      <td>2022-05-27</td>\n",
              "      <td>000006.SZ</td>\n",
              "      <td>-0.004566</td>\n",
              "      <td>-0.576279</td>\n",
              "      <td>-0.519335</td>\n",
              "      <td>002118.CJ</td>\n",
              "      <td>5.912978e+09</td>\n",
              "    </tr>\n",
              "  </tbody>\n",
              "</table>\n",
              "</div>\n",
              "    <div class=\"colab-df-buttons\">\n",
              "\n",
              "  <div class=\"colab-df-container\">\n",
              "    <button class=\"colab-df-convert\" onclick=\"convertToInteractive('df-d8562be5-382a-4fb2-bb1a-c11b7a922d7f')\"\n",
              "            title=\"Convert this dataframe to an interactive table.\"\n",
              "            style=\"display:none;\">\n",
              "\n",
              "  <svg xmlns=\"http://www.w3.org/2000/svg\" height=\"24px\" viewBox=\"0 -960 960 960\">\n",
              "    <path d=\"M120-120v-720h720v720H120Zm60-500h600v-160H180v160Zm220 220h160v-160H400v160Zm0 220h160v-160H400v160ZM180-400h160v-160H180v160Zm440 0h160v-160H620v160ZM180-180h160v-160H180v160Zm440 0h160v-160H620v160Z\"/>\n",
              "  </svg>\n",
              "    </button>\n",
              "\n",
              "  <style>\n",
              "    .colab-df-container {\n",
              "      display:flex;\n",
              "      gap: 12px;\n",
              "    }\n",
              "\n",
              "    .colab-df-convert {\n",
              "      background-color: #E8F0FE;\n",
              "      border: none;\n",
              "      border-radius: 50%;\n",
              "      cursor: pointer;\n",
              "      display: none;\n",
              "      fill: #1967D2;\n",
              "      height: 32px;\n",
              "      padding: 0 0 0 0;\n",
              "      width: 32px;\n",
              "    }\n",
              "\n",
              "    .colab-df-convert:hover {\n",
              "      background-color: #E2EBFA;\n",
              "      box-shadow: 0px 1px 2px rgba(60, 64, 67, 0.3), 0px 1px 3px 1px rgba(60, 64, 67, 0.15);\n",
              "      fill: #174EA6;\n",
              "    }\n",
              "\n",
              "    .colab-df-buttons div {\n",
              "      margin-bottom: 4px;\n",
              "    }\n",
              "\n",
              "    [theme=dark] .colab-df-convert {\n",
              "      background-color: #3B4455;\n",
              "      fill: #D2E3FC;\n",
              "    }\n",
              "\n",
              "    [theme=dark] .colab-df-convert:hover {\n",
              "      background-color: #434B5C;\n",
              "      box-shadow: 0px 1px 3px 1px rgba(0, 0, 0, 0.15);\n",
              "      filter: drop-shadow(0px 1px 2px rgba(0, 0, 0, 0.3));\n",
              "      fill: #FFFFFF;\n",
              "    }\n",
              "  </style>\n",
              "\n",
              "    <script>\n",
              "      const buttonEl =\n",
              "        document.querySelector('#df-d8562be5-382a-4fb2-bb1a-c11b7a922d7f button.colab-df-convert');\n",
              "      buttonEl.style.display =\n",
              "        google.colab.kernel.accessAllowed ? 'block' : 'none';\n",
              "\n",
              "      async function convertToInteractive(key) {\n",
              "        const element = document.querySelector('#df-d8562be5-382a-4fb2-bb1a-c11b7a922d7f');\n",
              "        const dataTable =\n",
              "          await google.colab.kernel.invokeFunction('convertToInteractive',\n",
              "                                                    [key], {});\n",
              "        if (!dataTable) return;\n",
              "\n",
              "        const docLinkHtml = 'Like what you see? Visit the ' +\n",
              "          '<a target=\"_blank\" href=https://colab.research.google.com/notebooks/data_table.ipynb>data table notebook</a>'\n",
              "          + ' to learn more about interactive tables.';\n",
              "        element.innerHTML = '';\n",
              "        dataTable['output_type'] = 'display_data';\n",
              "        await google.colab.output.renderOutput(dataTable, element);\n",
              "        const docLink = document.createElement('div');\n",
              "        docLink.innerHTML = docLinkHtml;\n",
              "        element.appendChild(docLink);\n",
              "      }\n",
              "    </script>\n",
              "  </div>\n",
              "\n",
              "\n",
              "<div id=\"df-d0c564bb-c194-4746-87ad-351c4dae126e\">\n",
              "  <button class=\"colab-df-quickchart\" onclick=\"quickchart('df-d0c564bb-c194-4746-87ad-351c4dae126e')\"\n",
              "            title=\"Suggest charts\"\n",
              "            style=\"display:none;\">\n",
              "\n",
              "<svg xmlns=\"http://www.w3.org/2000/svg\" height=\"24px\"viewBox=\"0 0 24 24\"\n",
              "     width=\"24px\">\n",
              "    <g>\n",
              "        <path d=\"M19 3H5c-1.1 0-2 .9-2 2v14c0 1.1.9 2 2 2h14c1.1 0 2-.9 2-2V5c0-1.1-.9-2-2-2zM9 17H7v-7h2v7zm4 0h-2V7h2v10zm4 0h-2v-4h2v4z\"/>\n",
              "    </g>\n",
              "</svg>\n",
              "  </button>\n",
              "\n",
              "<style>\n",
              "  .colab-df-quickchart {\n",
              "      --bg-color: #E8F0FE;\n",
              "      --fill-color: #1967D2;\n",
              "      --hover-bg-color: #E2EBFA;\n",
              "      --hover-fill-color: #174EA6;\n",
              "      --disabled-fill-color: #AAA;\n",
              "      --disabled-bg-color: #DDD;\n",
              "  }\n",
              "\n",
              "  [theme=dark] .colab-df-quickchart {\n",
              "      --bg-color: #3B4455;\n",
              "      --fill-color: #D2E3FC;\n",
              "      --hover-bg-color: #434B5C;\n",
              "      --hover-fill-color: #FFFFFF;\n",
              "      --disabled-bg-color: #3B4455;\n",
              "      --disabled-fill-color: #666;\n",
              "  }\n",
              "\n",
              "  .colab-df-quickchart {\n",
              "    background-color: var(--bg-color);\n",
              "    border: none;\n",
              "    border-radius: 50%;\n",
              "    cursor: pointer;\n",
              "    display: none;\n",
              "    fill: var(--fill-color);\n",
              "    height: 32px;\n",
              "    padding: 0;\n",
              "    width: 32px;\n",
              "  }\n",
              "\n",
              "  .colab-df-quickchart:hover {\n",
              "    background-color: var(--hover-bg-color);\n",
              "    box-shadow: 0 1px 2px rgba(60, 64, 67, 0.3), 0 1px 3px 1px rgba(60, 64, 67, 0.15);\n",
              "    fill: var(--button-hover-fill-color);\n",
              "  }\n",
              "\n",
              "  .colab-df-quickchart-complete:disabled,\n",
              "  .colab-df-quickchart-complete:disabled:hover {\n",
              "    background-color: var(--disabled-bg-color);\n",
              "    fill: var(--disabled-fill-color);\n",
              "    box-shadow: none;\n",
              "  }\n",
              "\n",
              "  .colab-df-spinner {\n",
              "    border: 2px solid var(--fill-color);\n",
              "    border-color: transparent;\n",
              "    border-bottom-color: var(--fill-color);\n",
              "    animation:\n",
              "      spin 1s steps(1) infinite;\n",
              "  }\n",
              "\n",
              "  @keyframes spin {\n",
              "    0% {\n",
              "      border-color: transparent;\n",
              "      border-bottom-color: var(--fill-color);\n",
              "      border-left-color: var(--fill-color);\n",
              "    }\n",
              "    20% {\n",
              "      border-color: transparent;\n",
              "      border-left-color: var(--fill-color);\n",
              "      border-top-color: var(--fill-color);\n",
              "    }\n",
              "    30% {\n",
              "      border-color: transparent;\n",
              "      border-left-color: var(--fill-color);\n",
              "      border-top-color: var(--fill-color);\n",
              "      border-right-color: var(--fill-color);\n",
              "    }\n",
              "    40% {\n",
              "      border-color: transparent;\n",
              "      border-right-color: var(--fill-color);\n",
              "      border-top-color: var(--fill-color);\n",
              "    }\n",
              "    60% {\n",
              "      border-color: transparent;\n",
              "      border-right-color: var(--fill-color);\n",
              "    }\n",
              "    80% {\n",
              "      border-color: transparent;\n",
              "      border-right-color: var(--fill-color);\n",
              "      border-bottom-color: var(--fill-color);\n",
              "    }\n",
              "    90% {\n",
              "      border-color: transparent;\n",
              "      border-bottom-color: var(--fill-color);\n",
              "    }\n",
              "  }\n",
              "</style>\n",
              "\n",
              "  <script>\n",
              "    async function quickchart(key) {\n",
              "      const quickchartButtonEl =\n",
              "        document.querySelector('#' + key + ' button');\n",
              "      quickchartButtonEl.disabled = true;  // To prevent multiple clicks.\n",
              "      quickchartButtonEl.classList.add('colab-df-spinner');\n",
              "      try {\n",
              "        const charts = await google.colab.kernel.invokeFunction(\n",
              "            'suggestCharts', [key], {});\n",
              "      } catch (error) {\n",
              "        console.error('Error during call to suggestCharts:', error);\n",
              "      }\n",
              "      quickchartButtonEl.classList.remove('colab-df-spinner');\n",
              "      quickchartButtonEl.classList.add('colab-df-quickchart-complete');\n",
              "    }\n",
              "    (() => {\n",
              "      let quickchartButtonEl =\n",
              "        document.querySelector('#df-d0c564bb-c194-4746-87ad-351c4dae126e button');\n",
              "      quickchartButtonEl.style.display =\n",
              "        google.colab.kernel.accessAllowed ? 'block' : 'none';\n",
              "    })();\n",
              "  </script>\n",
              "</div>\n",
              "    </div>\n",
              "  </div>\n"
            ],
            "application/vnd.google.colaboratory.intrinsic+json": {
              "type": "dataframe",
              "variable_name": "data_test_dl"
            }
          },
          "metadata": {},
          "execution_count": 25
        }
      ]
    },
    {
      "cell_type": "markdown",
      "source": [
        "The `DL Factor (Standardized)` refers to the preprocessed factor loading.\n",
        "\n",
        "**🪧 NOTE**\n",
        "- Tests are conducted using all tickers in the A-share market as a sample. However, choosing a smaller sample, such as tickers in ZZ800, could be more effective.\n",
        "- The `Industry` is based on data provided by Changjiang Securities. As of December 31, 2022, it classifies most stocks in the A-share market into 200 industries. Stocks from unclassified industries have been excluded.\n",
        "\n",
        "These aspects are left for future work."
      ],
      "metadata": {
        "id": "flSpKuuHxvWt"
      }
    },
    {
      "cell_type": "markdown",
      "source": [
        "### 1. Statistical Testing\n",
        "\n",
        "- IC, RankIC\n",
        "- t-value\n",
        "\n",
        "---\n",
        "**🧮 METHODOLOGY**\n",
        "\n",
        "For each time point $ t $ in our backtesting period, we define:\n",
        "\n",
        "- $ \\mathbf{f}_t $ as the cross-sectional data of factor exposure, specifically the standardized values of the Deep Learning (DL) factor for all securities at time $ t $.\n",
        "- $ \\mathbf{r}_t $ as the absolute return of the cross-sectional data at time $ t $, calculated as $ \\mathbf{r}_t = \\frac{\\mathbf{C}_{t+1}}{\\mathbf{C}_t} - 1 $, representing the percentage change in close price from time $ t $ to $ t+1 $. The operator \"/\" denotes element-wise division.\n",
        "- $ \\mathbf{f}_{\\text{MktCap}, t} $ for market capitalization data of the securities at time $ t $.\n",
        "- $ \\mathbf{f}_{\\text{ind}, t}^{i} $ for the one-hot encoded industry data of the securities, where each $ \\beta_{\\text{ind}, t}^{i} $ represents the coefficient for industry $ i $ at time $ t $.\n",
        "\n",
        "The regression model used to predict the returns $ \\mathbf{r}_t $ based on these factors is given by the equation:\n",
        "\n",
        "$$\n",
        "\\mathbf{r}_t = \\beta_{0, t} + \\beta_{\\text{factor}, t} \\mathbf{f}_t + \\beta_{\\text{MktCap}, t} \\mathbf{f}_{\\text{MktCap},t} + \\sum \\beta_{\\text{ind}, t}^{i} \\mathbf{f}_{\\text{ind}, t}^{i} + \\mathbf{\\epsilon}_t\n",
        "$$\n",
        "\n",
        "where $ \\mathbf{\\epsilon}_t $ represents the error term.\n",
        "\n",
        "The **Information Coefficient (IC)** and **Rank Information Coefficient (RankIC)** are calculated as follows:\n",
        "\n",
        "- The **IC** at time $ t $ is determined by the Pearson correlation coefficient between the factor exposures $ \\mathbf{f}_t $ and the returns $ \\mathbf{r}_t $, measuring the linear relationship between the factor values and the actual returns.\n",
        "- The **RankIC** is calculated using the Spearman rank correlation coefficient between the same sets of data, $ \\mathbf{f}_t $ and $ \\mathbf{r}_t $, assessing the monotonic relationship regardless of the specific linear form.\n",
        "- For each time period, the **t-value** associated with the factor $ \\mathbf{f}_t $ in the regression model quantifies the statistical significance of the factor's coefficient $ \\beta_{\\text{factor}, t} $, determined within the context of the broader model that includes market capitalization and industry effects. The t-value is calculated from the regression analysis, indicating how many standard deviations the estimated coefficient is away from 0, under the assumption that the null hypothesis (the coefficient is zero) is true.\n",
        "\n",
        "---\n",
        "**📈 RESULTS**\n",
        "\n",
        "The analysis of the alpha factor across all tickers in the A-share market, based on their factor exposure against next-day absolute return over the Testing Period - 2022-05-15 to 2022-12-31, yielded the following statistics:\n",
        "\n",
        "| Metric                               | Value   |\n",
        "|--------------------------------------|---------|\n",
        "| Mean IC                              | 0.0737  |\n",
        "| IC std                               | 0.0808  |\n",
        "| ICIR                                 | 0.9126  |\n",
        "| Proportion that IC > 0               | 81.21%  |\n",
        "| Proportion that \\|IC\\| > 0.02        | 85.91%  |\n",
        "| Mean RankIC                          | 0.0863  |\n",
        "| RankIC std                           | 0.1047  |\n",
        "| RankICIR                             | 0.8241  |\n",
        "| Proportion that RankIC > 0           | 78.52%  |\n",
        "| Proportion that \\|RankIC\\| > 0.02    | 89.26%  |\n",
        "| \\|t-value\\| mean                     | 5.8454  |\n",
        "| Proportion that \\|t-value\\| > 1.96   | 83.89%  |\n",
        "\n",
        "The analysis reveals a positive mean Information Coefficient (IC) of 0.0737 with a standard deviation of 0.0808, leading to an ICIR (Information Coefficient Information Ratio) of 0.9126. This suggests a moderately strong predictive power of the alpha factor, with over 81% of the daily observations showing a positive IC and nearly 86% exhibiting an absolute IC greater than 0.02.\n",
        "\n",
        "The RankIC metrics, which assess the alpha factor's performance using rank correlation, similarly indicate beneficial predictive capabilities. With a mean RankIC of 0.0863 and a RankICIR of 0.8241, the factor demonstrates a good degree of consistency in its predictions. Moreover, the proportion of days where RankIC is positive is over 78%, and nearly 89% of days have an absolute RankIC greater than 0.02, underscoring the factor's reliability.\n",
        "\n",
        "Finally, the mean absolute t-value of 5.8454 far exceeds the critical value of 1.96, with approximately 84% of the observations showing absolute t-values greater than 1.96. This high t-value mean and proportion indicate that the factor's predictive signals are statistically significant.\n",
        "\n",
        "Overall, the factor's performance metrics suggest it has a robust and statistically significant predictive ability for next-day absolute returns in the A-share market for the period tested."
      ],
      "metadata": {
        "id": "vxEGYBx4oAGM"
      }
    },
    {
      "cell_type": "code",
      "source": [
        "import statsmodels.api as sm\n",
        "from scipy.stats import pearsonr, spearmanr"
      ],
      "metadata": {
        "id": "g1p8UxFSZ68U"
      },
      "execution_count": null,
      "outputs": []
    },
    {
      "cell_type": "code",
      "source": [
        "IC, RankIC, t_value = [], [], []\n",
        "\n",
        "for t in backtest_date:\n",
        "    data_t = data_test_dl[data_test_dl['Date'] == t]\n",
        "    X = np.concatenate((data_t[['DL Factor (Standardized)', 'MktCap']].values, pd.get_dummies(data_t['Industry'], prefix='Industry').values), axis=1)\n",
        "    y = data_t['Tomorrow Ret'].values\n",
        "    f = data_t['DL Factor (Standardized)'].values\n",
        "    IC_t, RankIC_t = pearsonr(f, y)[0], spearmanr(f, y)[0]\n",
        "    IC.append(IC_t)\n",
        "    RankIC.append(RankIC_t)\n",
        "    t_value_t = sm.OLS(y, sm.add_constant(X)).fit().tvalues[1]\n",
        "    t_value.append(t_value_t)\n",
        "\n",
        "IC = np.array(IC)\n",
        "RankIC = np.array(RankIC)\n",
        "t_value = np.array(t_value)"
      ],
      "metadata": {
        "id": "IEn619-hCVTj"
      },
      "execution_count": null,
      "outputs": []
    },
    {
      "cell_type": "code",
      "source": [
        "mean_ic = np.mean(IC)\n",
        "ic_std = np.std(IC)\n",
        "ic_ir = mean_ic / ic_std\n",
        "prop_ic_positive = np.mean(IC > 0)\n",
        "prop_ic_abs_gt_002 = np.mean(np.abs(IC) > 0.02)\n",
        "\n",
        "mean_rankic = np.mean(RankIC)\n",
        "rankic_std = np.std(RankIC)\n",
        "rankic_ir = mean_rankic / rankic_std\n",
        "prop_rankic_positive = np.mean(RankIC > 0)\n",
        "prop_rankic_abs_gt_002 = np.mean(np.abs(RankIC) > 0.02)\n",
        "\n",
        "mean_t_value_abs = np.mean(np.abs(t_value))\n",
        "prop_t_value_abs_gt_196 = np.mean(np.abs(t_value) > 1.96)\n",
        "\n",
        "print(f\"{'Metric':<30}{'Value':>10}\")\n",
        "print(\"-\" * 40)\n",
        "print(f\"{'Mean IC':<30}{mean_ic:>10.4f}\")\n",
        "print(f\"{'IC std':<30}{ic_std:>10.4f}\")\n",
        "print(f\"{'ICIR':<30}{ic_ir:>10.4f}\")\n",
        "print(f\"{'Prop that IC >0':<30}{prop_ic_positive:>10.4f}\")\n",
        "print(f\"{'Prop that |IC| > 0.02':<30}{prop_ic_abs_gt_002:>10.4f}\")\n",
        "print(f\"{'Mean RankIC':<30}{mean_rankic:>10.4f}\")\n",
        "print(f\"{'RankIC std':<30}{rankic_std:>10.4f}\")\n",
        "print(f\"{'RankICIR':<30}{rankic_ir:>10.4f}\")\n",
        "print(f\"{'Prop that RankIC >0':<30}{prop_rankic_positive:>10.4f}\")\n",
        "print(f\"{'Prop that |RankIC| > 0.02':<30}{prop_rankic_abs_gt_002:>10.4f}\")\n",
        "print(f\"{'|t-value| mean':<30}{mean_t_value_abs:>10.4f}\")\n",
        "print(f\"{'Prop that |t-value| > 1.96':<30}{prop_t_value_abs_gt_196:>10.4f}\")"
      ],
      "metadata": {
        "colab": {
          "base_uri": "https://localhost:8080/"
        },
        "id": "EvJni2OuMtz-",
        "outputId": "1a3087e4-da24-4946-8fb5-6acb59a3b5cc"
      },
      "execution_count": null,
      "outputs": [
        {
          "output_type": "stream",
          "name": "stdout",
          "text": [
            "Metric                             Value\n",
            "----------------------------------------\n",
            "Mean IC                           0.0737\n",
            "IC std                            0.0808\n",
            "ICIR                              0.9126\n",
            "Prop that IC >0                   0.8121\n",
            "Prop that |IC| > 0.02             0.8591\n",
            "Mean RankIC                       0.0863\n",
            "RankIC std                        0.1047\n",
            "RankICIR                          0.8241\n",
            "Prop that RankIC >0               0.7852\n",
            "Prop that |RankIC| > 0.02         0.8926\n",
            "|t-value| mean                    5.8454\n",
            "Prop that |t-value| > 1.96        0.8389\n"
          ]
        }
      ]
    },
    {
      "cell_type": "code",
      "source": [
        "import matplotlib.dates as mdates\n",
        "\n",
        "sns.set_theme(style=\"whitegrid\")\n",
        "\n",
        "positive_color = sns.color_palette(\"coolwarm\", 5)[0]\n",
        "negative_color = sns.color_palette(\"coolwarm\", 5)[-1]\n",
        "significant_line_color = 'black'\n",
        "\n",
        "fig, axs = plt.subplots(3, 1, figsize=(10, 12))\n",
        "\n",
        "# IC Plot\n",
        "positive_idx = IC >= 0\n",
        "negative_idx = ~positive_idx\n",
        "axs[0].bar(backtest_date[positive_idx], IC[positive_idx], color=positive_color, width=1.0)\n",
        "axs[0].bar(backtest_date[negative_idx], IC[negative_idx], color=negative_color, width=1.0)\n",
        "axs[0].hlines(0.02, backtest_date.min(), backtest_date.max(), colors=significant_line_color, linestyles='dashed')\n",
        "axs[0].hlines(-0.02, backtest_date.min(), backtest_date.max(), colors=significant_line_color, linestyles='dashed')\n",
        "axs[0].set_title('IC Time-Series')\n",
        "axs[0].xaxis.set_major_locator(mdates.MonthLocator())\n",
        "axs[0].xaxis.set_major_formatter(mdates.DateFormatter('%Y-%m'))\n",
        "\n",
        "# RankIC Plot\n",
        "positive_idx = RankIC >= 0\n",
        "negative_idx = ~positive_idx\n",
        "axs[1].bar(backtest_date[positive_idx], RankIC[positive_idx], color=positive_color, width=1.0)\n",
        "axs[1].bar(backtest_date[negative_idx], RankIC[negative_idx], color=negative_color, width=1.0)\n",
        "axs[1].hlines(0.02, backtest_date.min(), backtest_date.max(), colors=significant_line_color, linestyles='dashed')\n",
        "axs[1].hlines(-0.02, backtest_date.min(), backtest_date.max(), colors=significant_line_color, linestyles='dashed')\n",
        "axs[1].set_title('RankIC Time-Series')\n",
        "axs[1].xaxis.set_major_locator(mdates.MonthLocator())\n",
        "axs[1].xaxis.set_major_formatter(mdates.DateFormatter('%Y-%m'))\n",
        "\n",
        "# t_value Plot\n",
        "positive_idx = t_value >= 0\n",
        "negative_idx = ~positive_idx\n",
        "axs[2].bar(backtest_date[positive_idx], t_value[positive_idx], color=positive_color, width=1.0)\n",
        "axs[2].bar(backtest_date[negative_idx], t_value[negative_idx], color=negative_color, width=1.0)\n",
        "axs[2].hlines(1.96, backtest_date.min(), backtest_date.max(), colors=significant_line_color, linestyles='dashed')\n",
        "axs[2].hlines(-1.96, backtest_date.min(), backtest_date.max(), colors=significant_line_color, linestyles='dashed')\n",
        "axs[2].set_title('t-value Time-Series')\n",
        "axs[2].xaxis.set_major_locator(mdates.MonthLocator())\n",
        "axs[2].xaxis.set_major_formatter(mdates.DateFormatter('%Y-%m'))\n",
        "\n",
        "# Rotate date labels for better visibility\n",
        "for ax in axs:\n",
        "    plt.setp(ax.get_xticklabels(), rotation=45, ha=\"right\")\n",
        "\n",
        "plt.tight_layout()\n",
        "plt.show()"
      ],
      "metadata": {
        "colab": {
          "base_uri": "https://localhost:8080/",
          "height": 1000
        },
        "id": "kxvShnr_QI_M",
        "outputId": "70f988bb-7827-44a8-d84a-0a4f02cc1f44"
      },
      "execution_count": null,
      "outputs": [
        {
          "output_type": "display_data",
          "data": {
            "text/plain": [
              "<Figure size 1000x1200 with 3 Axes>"
            ],
            "image/png": "[encoded data removed]"
          },
          "metadata": {}
        }
      ]
    },
    {
      "cell_type": "markdown",
      "source": [
        "### 2. Factor Stock-Selection Backtesting\n",
        "\n",
        "**🧮 METHODOLOGY**\n",
        "\n",
        "After neutralizing the factor against industry and capitalization, we divided stocks into five portfolios based on their factor loadings, ranking them from highest to lowest. These portfolios consist of top 20% performers, the next 20%, the middle 20%, the next 20%, and the bottom 20% with equal weight to each stock. We tracked their returns, and compared these returns to the market portfolio's return, represented by an equal-weighted portfolio of all stocks, to calculate excess returns. **If the factor accurately predicts profitability, we expect a descending pattern of performance, from highest profit in the top quintile to losses in the bottom.**\n",
        "\n",
        "Additionally, we evaluated the factor's effectiveness through three strategies:\n",
        "- A **long portfolio** investing in the top 20% stocks with equal-weighted long positions,\n",
        "- A **short portfolio** investing in the in the bottom 20%  with equal-weighted short positions, and\n",
        "- A **long-short portfolio** combining the two with equal weights.\n",
        "\n",
        "**📈 RESULTS**\n",
        "\n",
        "**Quintile Performance: Mean Daily Excess Return**\n",
        "\n",
        "| Quintile | Mean Daily Excess Return |\n",
        "|----------|--------------------------|\n",
        "| Group 1  | 0.1559%                  |\n",
        "| Group 2  | 0.0554%                  |\n",
        "| Group 3  | 0.0540%                  |\n",
        "| Group 4  | 0.0048%                  |\n",
        "| Group 5  | -0.2697%                 |\n",
        "```\n",
        "\n",
        "The results show a clear descending trend in excess returns from the top-performing quintile to the bottom, indicating the factor's effectiveness in predicting stock profitability.\n",
        "\n",
        "**Portfolio Performance Metrics**\n",
        "\n",
        "| Portfolio          | Average Daily Return | Annualized Cumulative Return | Annualized Sharpe Ratio | Maximum Drawdown | Hit Rate |\n",
        "|--------------------|----------------------|------------------------------|-------------------------|------------------|----------|\n",
        "| LONG PORTFOLIO     | 0.21%                | 68.0%                        | 2.66                    | -93.1%           | 59.1%    |\n",
        "| SHORT PORTFOLIO    | 0.21%                | 66.9%                        | 2.69                    | -94.1%           | 51.7%    |\n",
        "| LONG-SHORT PORTFOLIO | 0.21%              | 70.7%                        | 14.48                   | -98.9%           | 84.6%    |\n",
        "```\n",
        "\n",
        "The long-short portfolio, combining the best and worst performers based on factor loadings, yielded the highest annualized cumulative return and Sharpe ratio, demonstrating substantial profitability and risk-adjusted performance. The hit rate for this strategy was also notably high, further validating the factor's predictive power."
      ],
      "metadata": {
        "id": "ByHAfSbeb8CG"
      }
    },
    {
      "cell_type": "code",
      "source": [
        "# Neutralize the factor exposure to the industry and market capitalization\n",
        "\n",
        "residuals_list = []\n",
        "\n",
        "for t in backtest_date:\n",
        "    data_t = data_test_dl[data_test_dl['Date'] == t]\n",
        "    X = np.concatenate((data_t[['MktCap']].values, pd.get_dummies(data_t['Industry'], prefix='Industry').values), axis=1)\n",
        "    y = data_t['DL Factor (Standardized)'].values\n",
        "    model = sm.OLS(y, sm.add_constant(X)).fit()\n",
        "    y_pred = model.predict(sm.add_constant(X))\n",
        "    residuals = y - y_pred\n",
        "    residuals_list.extend(list(zip(data_t.index, residuals)))\n",
        "\n",
        "residuals_df = pd.DataFrame(residuals_list, columns=['index', 'DL Factor (Neutralized)'])\n",
        "residuals_df.set_index('index', inplace=True)\n",
        "data_test_dl = data_test_dl.join(residuals_df)\n",
        "del residuals_df\n",
        "\n",
        "data_test_dl.head()"
      ],
      "metadata": {
        "colab": {
          "base_uri": "https://localhost:8080/",
          "height": 206
        },
        "id": "q-2glb9Nbrgp",
        "outputId": "de9fee99-4a13-4b71-e1e4-27406caebbfa"
      },
      "execution_count": null,
      "outputs": [
        {
          "output_type": "execute_result",
          "data": {
            "text/plain": [
              "        Date     Ticker  Tomorrow Ret  Tomorrow Ret (Scaled) (Standardized)  \\\n",
              "0 2022-05-27  000001.SZ     -0.007052                             -0.688607   \n",
              "1 2022-05-27  000002.SZ     -0.017641                             -1.167042   \n",
              "2 2022-05-27  000004.SZ      0.019108                              0.493450   \n",
              "3 2022-05-27  000005.SZ      0.000000                             -0.369955   \n",
              "4 2022-05-27  000006.SZ     -0.004566                             -0.576279   \n",
              "\n",
              "   DL Factor (Standardized)   Industry        MktCap  DL Factor (Neutralized)  \n",
              "0                  0.229830  002094.CJ  2.751759e+11                 0.267324  \n",
              "1                  0.093312  002118.CJ  2.108845e+11                 0.241863  \n",
              "2                  0.087833  002112.CJ  1.469549e+09                 0.009769  \n",
              "3                  0.631381  002059.CJ  1.968879e+09                 0.520765  \n",
              "4                 -0.519335  002118.CJ  5.912978e+09                -0.474114  "
            ],
            "text/html": [
              "\n",
              "  <div id=\"df-46f1b9bd-db8e-464e-b36c-cb35d8d4d988\" class=\"colab-df-container\">\n",
              "    <div>\n",
              "<style scoped>\n",
              "    .dataframe tbody tr th:only-of-type {\n",
              "        vertical-align: middle;\n",
              "    }\n",
              "\n",
              "    .dataframe tbody tr th {\n",
              "        vertical-align: top;\n",
              "    }\n",
              "\n",
              "    .dataframe thead th {\n",
              "        text-align: right;\n",
              "    }\n",
              "</style>\n",
              "<table border=\"1\" class=\"dataframe\">\n",
              "  <thead>\n",
              "    <tr style=\"text-align: right;\">\n",
              "      <th></th>\n",
              "      <th>Date</th>\n",
              "      <th>Ticker</th>\n",
              "      <th>Tomorrow Ret</th>\n",
              "      <th>Tomorrow Ret (Scaled) (Standardized)</th>\n",
              "      <th>DL Factor (Standardized)</th>\n",
              "      <th>Industry</th>\n",
              "      <th>MktCap</th>\n",
              "      <th>DL Factor (Neutralized)</th>\n",
              "    </tr>\n",
              "  </thead>\n",
              "  <tbody>\n",
              "    <tr>\n",
              "      <th>0</th>\n",
              "      <td>2022-05-27</td>\n",
              "      <td>000001.SZ</td>\n",
              "      <td>-0.007052</td>\n",
              "      <td>-0.688607</td>\n",
              "      <td>0.229830</td>\n",
              "      <td>002094.CJ</td>\n",
              "      <td>2.751759e+11</td>\n",
              "      <td>0.267324</td>\n",
              "    </tr>\n",
              "    <tr>\n",
              "      <th>1</th>\n",
              "      <td>2022-05-27</td>\n",
              "      <td>000002.SZ</td>\n",
              "      <td>-0.017641</td>\n",
              "      <td>-1.167042</td>\n",
              "      <td>0.093312</td>\n",
              "      <td>002118.CJ</td>\n",
              "      <td>2.108845e+11</td>\n",
              "      <td>0.241863</td>\n",
              "    </tr>\n",
              "    <tr>\n",
              "      <th>2</th>\n",
              "      <td>2022-05-27</td>\n",
              "      <td>000004.SZ</td>\n",
              "      <td>0.019108</td>\n",
              "      <td>0.493450</td>\n",
              "      <td>0.087833</td>\n",
              "      <td>002112.CJ</td>\n",
              "      <td>1.469549e+09</td>\n",
              "      <td>0.009769</td>\n",
              "    </tr>\n",
              "    <tr>\n",
              "      <th>3</th>\n",
              "      <td>2022-05-27</td>\n",
              "      <td>000005.SZ</td>\n",
              "      <td>0.000000</td>\n",
              "      <td>-0.369955</td>\n",
              "      <td>0.631381</td>\n",
              "      <td>002059.CJ</td>\n",
              "      <td>1.968879e+09</td>\n",
              "      <td>0.520765</td>\n",
              "    </tr>\n",
              "    <tr>\n",
              "      <th>4</th>\n",
              "      <td>2022-05-27</td>\n",
              "      <td>000006.SZ</td>\n",
              "      <td>-0.004566</td>\n",
              "      <td>-0.576279</td>\n",
              "      <td>-0.519335</td>\n",
              "      <td>002118.CJ</td>\n",
              "      <td>5.912978e+09</td>\n",
              "      <td>-0.474114</td>\n",
              "    </tr>\n",
              "  </tbody>\n",
              "</table>\n",
              "</div>\n",
              "    <div class=\"colab-df-buttons\">\n",
              "\n",
              "  <div class=\"colab-df-container\">\n",
              "    <button class=\"colab-df-convert\" onclick=\"convertToInteractive('df-46f1b9bd-db8e-464e-b36c-cb35d8d4d988')\"\n",
              "            title=\"Convert this dataframe to an interactive table.\"\n",
              "            style=\"display:none;\">\n",
              "\n",
              "  <svg xmlns=\"http://www.w3.org/2000/svg\" height=\"24px\" viewBox=\"0 -960 960 960\">\n",
              "    <path d=\"M120-120v-720h720v720H120Zm60-500h600v-160H180v160Zm220 220h160v-160H400v160Zm0 220h160v-160H400v160ZM180-400h160v-160H180v160Zm440 0h160v-160H620v160ZM180-180h160v-160H180v160Zm440 0h160v-160H620v160Z\"/>\n",
              "  </svg>\n",
              "    </button>\n",
              "\n",
              "  <style>\n",
              "    .colab-df-container {\n",
              "      display:flex;\n",
              "      gap: 12px;\n",
              "    }\n",
              "\n",
              "    .colab-df-convert {\n",
              "      background-color: #E8F0FE;\n",
              "      border: none;\n",
              "      border-radius: 50%;\n",
              "      cursor: pointer;\n",
              "      display: none;\n",
              "      fill: #1967D2;\n",
              "      height: 32px;\n",
              "      padding: 0 0 0 0;\n",
              "      width: 32px;\n",
              "    }\n",
              "\n",
              "    .colab-df-convert:hover {\n",
              "      background-color: #E2EBFA;\n",
              "      box-shadow: 0px 1px 2px rgba(60, 64, 67, 0.3), 0px 1px 3px 1px rgba(60, 64, 67, 0.15);\n",
              "      fill: #174EA6;\n",
              "    }\n",
              "\n",
              "    .colab-df-buttons div {\n",
              "      margin-bottom: 4px;\n",
              "    }\n",
              "\n",
              "    [theme=dark] .colab-df-convert {\n",
              "      background-color: #3B4455;\n",
              "      fill: #D2E3FC;\n",
              "    }\n",
              "\n",
              "    [theme=dark] .colab-df-convert:hover {\n",
              "      background-color: #434B5C;\n",
              "      box-shadow: 0px 1px 3px 1px rgba(0, 0, 0, 0.15);\n",
              "      filter: drop-shadow(0px 1px 2px rgba(0, 0, 0, 0.3));\n",
              "      fill: #FFFFFF;\n",
              "    }\n",
              "  </style>\n",
              "\n",
              "    <script>\n",
              "      const buttonEl =\n",
              "        document.querySelector('#df-46f1b9bd-db8e-464e-b36c-cb35d8d4d988 button.colab-df-convert');\n",
              "      buttonEl.style.display =\n",
              "        google.colab.kernel.accessAllowed ? 'block' : 'none';\n",
              "\n",
              "      async function convertToInteractive(key) {\n",
              "        const element = document.querySelector('#df-46f1b9bd-db8e-464e-b36c-cb35d8d4d988');\n",
              "        const dataTable =\n",
              "          await google.colab.kernel.invokeFunction('convertToInteractive',\n",
              "                                                    [key], {});\n",
              "        if (!dataTable) return;\n",
              "\n",
              "        const docLinkHtml = 'Like what you see? Visit the ' +\n",
              "          '<a target=\"_blank\" href=https://colab.research.google.com/notebooks/data_table.ipynb>data table notebook</a>'\n",
              "          + ' to learn more about interactive tables.';\n",
              "        element.innerHTML = '';\n",
              "        dataTable['output_type'] = 'display_data';\n",
              "        await google.colab.output.renderOutput(dataTable, element);\n",
              "        const docLink = document.createElement('div');\n",
              "        docLink.innerHTML = docLinkHtml;\n",
              "        element.appendChild(docLink);\n",
              "      }\n",
              "    </script>\n",
              "  </div>\n",
              "\n",
              "\n",
              "<div id=\"df-513aec2a-a76c-4d0e-980d-fb09e6d2540d\">\n",
              "  <button class=\"colab-df-quickchart\" onclick=\"quickchart('df-513aec2a-a76c-4d0e-980d-fb09e6d2540d')\"\n",
              "            title=\"Suggest charts\"\n",
              "            style=\"display:none;\">\n",
              "\n",
              "<svg xmlns=\"http://www.w3.org/2000/svg\" height=\"24px\"viewBox=\"0 0 24 24\"\n",
              "     width=\"24px\">\n",
              "    <g>\n",
              "        <path d=\"M19 3H5c-1.1 0-2 .9-2 2v14c0 1.1.9 2 2 2h14c1.1 0 2-.9 2-2V5c0-1.1-.9-2-2-2zM9 17H7v-7h2v7zm4 0h-2V7h2v10zm4 0h-2v-4h2v4z\"/>\n",
              "    </g>\n",
              "</svg>\n",
              "  </button>\n",
              "\n",
              "<style>\n",
              "  .colab-df-quickchart {\n",
              "      --bg-color: #E8F0FE;\n",
              "      --fill-color: #1967D2;\n",
              "      --hover-bg-color: #E2EBFA;\n",
              "      --hover-fill-color: #174EA6;\n",
              "      --disabled-fill-color: #AAA;\n",
              "      --disabled-bg-color: #DDD;\n",
              "  }\n",
              "\n",
              "  [theme=dark] .colab-df-quickchart {\n",
              "      --bg-color: #3B4455;\n",
              "      --fill-color: #D2E3FC;\n",
              "      --hover-bg-color: #434B5C;\n",
              "      --hover-fill-color: #FFFFFF;\n",
              "      --disabled-bg-color: #3B4455;\n",
              "      --disabled-fill-color: #666;\n",
              "  }\n",
              "\n",
              "  .colab-df-quickchart {\n",
              "    background-color: var(--bg-color);\n",
              "    border: none;\n",
              "    border-radius: 50%;\n",
              "    cursor: pointer;\n",
              "    display: none;\n",
              "    fill: var(--fill-color);\n",
              "    height: 32px;\n",
              "    padding: 0;\n",
              "    width: 32px;\n",
              "  }\n",
              "\n",
              "  .colab-df-quickchart:hover {\n",
              "    background-color: var(--hover-bg-color);\n",
              "    box-shadow: 0 1px 2px rgba(60, 64, 67, 0.3), 0 1px 3px 1px rgba(60, 64, 67, 0.15);\n",
              "    fill: var(--button-hover-fill-color);\n",
              "  }\n",
              "\n",
              "  .colab-df-quickchart-complete:disabled,\n",
              "  .colab-df-quickchart-complete:disabled:hover {\n",
              "    background-color: var(--disabled-bg-color);\n",
              "    fill: var(--disabled-fill-color);\n",
              "    box-shadow: none;\n",
              "  }\n",
              "\n",
              "  .colab-df-spinner {\n",
              "    border: 2px solid var(--fill-color);\n",
              "    border-color: transparent;\n",
              "    border-bottom-color: var(--fill-color);\n",
              "    animation:\n",
              "      spin 1s steps(1) infinite;\n",
              "  }\n",
              "\n",
              "  @keyframes spin {\n",
              "    0% {\n",
              "      border-color: transparent;\n",
              "      border-bottom-color: var(--fill-color);\n",
              "      border-left-color: var(--fill-color);\n",
              "    }\n",
              "    20% {\n",
              "      border-color: transparent;\n",
              "      border-left-color: var(--fill-color);\n",
              "      border-top-color: var(--fill-color);\n",
              "    }\n",
              "    30% {\n",
              "      border-color: transparent;\n",
              "      border-left-color: var(--fill-color);\n",
              "      border-top-color: var(--fill-color);\n",
              "      border-right-color: var(--fill-color);\n",
              "    }\n",
              "    40% {\n",
              "      border-color: transparent;\n",
              "      border-right-color: var(--fill-color);\n",
              "      border-top-color: var(--fill-color);\n",
              "    }\n",
              "    60% {\n",
              "      border-color: transparent;\n",
              "      border-right-color: var(--fill-color);\n",
              "    }\n",
              "    80% {\n",
              "      border-color: transparent;\n",
              "      border-right-color: var(--fill-color);\n",
              "      border-bottom-color: var(--fill-color);\n",
              "    }\n",
              "    90% {\n",
              "      border-color: transparent;\n",
              "      border-bottom-color: var(--fill-color);\n",
              "    }\n",
              "  }\n",
              "</style>\n",
              "\n",
              "  <script>\n",
              "    async function quickchart(key) {\n",
              "      const quickchartButtonEl =\n",
              "        document.querySelector('#' + key + ' button');\n",
              "      quickchartButtonEl.disabled = true;  // To prevent multiple clicks.\n",
              "      quickchartButtonEl.classList.add('colab-df-spinner');\n",
              "      try {\n",
              "        const charts = await google.colab.kernel.invokeFunction(\n",
              "            'suggestCharts', [key], {});\n",
              "      } catch (error) {\n",
              "        console.error('Error during call to suggestCharts:', error);\n",
              "      }\n",
              "      quickchartButtonEl.classList.remove('colab-df-spinner');\n",
              "      quickchartButtonEl.classList.add('colab-df-quickchart-complete');\n",
              "    }\n",
              "    (() => {\n",
              "      let quickchartButtonEl =\n",
              "        document.querySelector('#df-513aec2a-a76c-4d0e-980d-fb09e6d2540d button');\n",
              "      quickchartButtonEl.style.display =\n",
              "        google.colab.kernel.accessAllowed ? 'block' : 'none';\n",
              "    })();\n",
              "  </script>\n",
              "</div>\n",
              "    </div>\n",
              "  </div>\n"
            ],
            "application/vnd.google.colaboratory.intrinsic+json": {
              "type": "dataframe",
              "variable_name": "data_test_dl"
            }
          },
          "metadata": {},
          "execution_count": 30
        }
      ]
    },
    {
      "cell_type": "code",
      "source": [
        "# Initialize lists to store daily returns for each quintile\n",
        "daily_return_1, daily_return_2, daily_return_3, daily_return_4, daily_return_5 = [], [], [], [], []\n",
        "daily_return_mkt = []\n",
        "\n",
        "for t in backtest_date:\n",
        "    data_t = data_test_dl[data_test_dl['Date'] == t]\n",
        "    data_t_sorted = data_t.sort_values('DL Factor (Neutralized)', ascending=False)\n",
        "\n",
        "    quintile_size = len(data_t_sorted) // 5\n",
        "\n",
        "    quintiles = {\n",
        "        1: data_t_sorted.iloc[:quintile_size],\n",
        "        2: data_t_sorted.iloc[quintile_size:2*quintile_size],\n",
        "        3: data_t_sorted.iloc[2*quintile_size:3*quintile_size],\n",
        "        4: data_t_sorted.iloc[3*quintile_size:4*quintile_size],\n",
        "        5: data_t_sorted.iloc[4*quintile_size:]\n",
        "    }\n",
        "\n",
        "    for i in range(1, 6):\n",
        "        mkt_return = data_t['Tomorrow Ret'].mean()\n",
        "        mean_return = quintiles[i]['Tomorrow Ret'].mean()\n",
        "        if i == 1:\n",
        "            daily_return_1.append(mean_return)\n",
        "        elif i == 2:\n",
        "            daily_return_2.append(mean_return)\n",
        "        elif i == 3:\n",
        "            daily_return_3.append(mean_return)\n",
        "        elif i == 4:\n",
        "            daily_return_4.append(mean_return)\n",
        "        elif i == 5:\n",
        "            daily_return_5.append(mean_return)\n",
        "\n",
        "    daily_return_mkt.append(mkt_return)\n",
        "\n",
        "daily_return_1 = np.array(daily_return_1)\n",
        "daily_return_2 = np.array(daily_return_2)\n",
        "daily_return_3 = np.array(daily_return_3)\n",
        "daily_return_4 = np.array(daily_return_4)\n",
        "daily_return_5 = np.array(daily_return_5)\n",
        "daily_return_mkt = np.array(daily_return_mkt)\n",
        "\n",
        "cumulative_return_1 = np.cumprod(1 + daily_return_1 - daily_return_mkt) - 1\n",
        "cumulative_return_2 = np.cumprod(1 + daily_return_2 - daily_return_mkt) - 1\n",
        "cumulative_return_3 = np.cumprod(1 + daily_return_3 - daily_return_mkt) - 1\n",
        "cumulative_return_4 = np.cumprod(1 + daily_return_4 - daily_return_mkt) - 1\n",
        "cumulative_return_5 = np.cumprod(1 + daily_return_5 - daily_return_mkt) - 1\n",
        "\n",
        "colors = sns.color_palette(\"coolwarm\", 5)\n",
        "plt.figure(figsize=(10, 6))\n",
        "sns.set(style=\"whitegrid\")\n",
        "\n",
        "plt.plot(backtest_date, cumulative_return_1, label='Top 20%', color=colors[0])\n",
        "plt.plot(backtest_date, cumulative_return_2, label='20%-40%', color=colors[1])\n",
        "plt.plot(backtest_date, cumulative_return_3, label='40%-60%', color=colors[2])\n",
        "plt.plot(backtest_date, cumulative_return_4, label='60%-80%', color=colors[3])\n",
        "plt.plot(backtest_date, cumulative_return_5, label='Bottom 20%', color=colors[4])\n",
        "\n",
        "plt.title('Cumulative Excess Returns by Quintile')\n",
        "plt.xlabel('Date')\n",
        "plt.ylabel('Cumulative Return')\n",
        "plt.legend(title='Quintile')\n",
        "plt.xticks(rotation=45)\n",
        "\n",
        "plt.tight_layout()\n",
        "plt.show()"
      ],
      "metadata": {
        "colab": {
          "base_uri": "https://localhost:8080/",
          "height": 601
        },
        "id": "sz7p_9YQerWY",
        "outputId": "8bc05cc2-c2e5-44b7-8233-f43586a7c4f9"
      },
      "execution_count": null,
      "outputs": [
        {
          "output_type": "display_data",
          "data": {
            "text/plain": [
              "<Figure size 1000x600 with 1 Axes>"
            ],
            "image/png": "[encoded data removed]"
          },
          "metadata": {}
        }
      ]
    },
    {
      "cell_type": "code",
      "source": [
        "print(f\"{'Quintile':<15}{'Mean Daily Excess Return':>25}\")\n",
        "print(\"-\" * 40)\n",
        "print(f\"{'Group 1':<30}{(daily_return_1 - daily_return_mkt).mean()*100:>10.4f}%\")\n",
        "print(f\"{'Group 2':<30}{(daily_return_2 - daily_return_mkt).mean()*100:>10.4f}%\")\n",
        "print(f\"{'Group 3':<30}{(daily_return_3 - daily_return_mkt).mean()*100:>10.4f}%\")\n",
        "print(f\"{'Group 4':<30}{(daily_return_4 - daily_return_mkt).mean()*100:>10.4f}%\")\n",
        "print(f\"{'Group 5':<30}{(daily_return_5 - daily_return_mkt).mean()*100:>10.4f}%\")"
      ],
      "metadata": {
        "colab": {
          "base_uri": "https://localhost:8080/"
        },
        "id": "F74CsT9EgJzW",
        "outputId": "3b91e5bc-0604-4c4e-bccc-711b297b337b"
      },
      "execution_count": null,
      "outputs": [
        {
          "output_type": "stream",
          "name": "stdout",
          "text": [
            "Quintile        Mean Daily Excess Return\n",
            "----------------------------------------\n",
            "Group 1                           0.1559%\n",
            "Group 2                           0.0554%\n",
            "Group 3                           0.0540%\n",
            "Group 4                           0.0048%\n",
            "Group 5                          -0.2697%\n"
          ]
        }
      ]
    },
    {
      "cell_type": "code",
      "source": [
        "cumulative_return_long = np.cumprod(1 + daily_return_1) - 1\n",
        "cumulative_return_short = np.cumprod(1 - daily_return_5) - 1\n",
        "cumulative_return_long_short = np.cumprod(1 + (daily_return_1 - daily_return_5)) - 1\n",
        "cumulative_return_mkt = np.cumprod(1 + daily_return_mkt) - 1\n",
        "\n",
        "colors = sns.color_palette(\"coolwarm\", 5)\n",
        "plt.figure(figsize=(10, 6))\n",
        "sns.set(style=\"whitegrid\")\n",
        "\n",
        "plt.plot(backtest_date, cumulative_return_long_short, label='Long-Short Portfolio', color=colors[0])\n",
        "plt.plot(backtest_date, cumulative_return_long, label='Long Portfolio', color=colors[1])\n",
        "plt.plot(backtest_date, cumulative_return_short, label='Short Portfolio', color=colors[2])\n",
        "plt.plot(backtest_date, cumulative_return_4, label='Market Protfolio', color=colors[-1])\n",
        "\n",
        "plt.title('Cumulative Returns')\n",
        "plt.xlabel('Date')\n",
        "plt.ylabel('Cumulative Return')\n",
        "plt.legend(title='Quintile')\n",
        "plt.xticks(rotation=45)\n",
        "\n",
        "plt.tight_layout()\n",
        "plt.show()"
      ],
      "metadata": {
        "colab": {
          "base_uri": "https://localhost:8080/",
          "height": 601
        },
        "id": "VF9HfIsRseHd",
        "outputId": "bd28cbbd-8951-41fa-bd2d-4efc3cebf124"
      },
      "execution_count": null,
      "outputs": [
        {
          "output_type": "display_data",
          "data": {
            "text/plain": [
              "<Figure size 1000x600 with 1 Axes>"
            ],
            "image/png": "[encoded data removed]"
          },
          "metadata": {}
        }
      ]
    },
    {
      "cell_type": "code",
      "source": [
        "def calculte_portfolio_performance(daily_return):\n",
        "    cumulative_return = np.prod(1 + daily_return) - 1\n",
        "    annualized_cumulative_return = (1 + cumulative_return) ** (252 / len(daily_return)) - 1\n",
        "\n",
        "    average_daily_return = np.mean(daily_return)\n",
        "    annualized_sharpe_ratio = (np.mean(daily_return) / np.std(daily_return)) * np.sqrt(252)\n",
        "\n",
        "    rolling_max = np.maximum.accumulate(daily_return + 1)\n",
        "    daily_drawdown = (rolling_max - (daily_return + 1)) / rolling_max\n",
        "    maximum_drawdown = np.max(daily_drawdown) - 1\n",
        "\n",
        "    hit_rate = np.mean(daily_return > 0)\n",
        "\n",
        "    return average_daily_return, annualized_cumulative_return, annualized_sharpe_ratio, maximum_drawdown, hit_rate"
      ],
      "metadata": {
        "id": "bo8IEbE3uoYF"
      },
      "execution_count": null,
      "outputs": []
    },
    {
      "cell_type": "code",
      "source": [
        "print('LONG PORTFOLIO')\n",
        "average_daily_return, annualized_cumulative_return, annualized_sharpe_ratio, maximum_drawdown, hit_rate = calculte_portfolio_performance(daily_return_1)\n",
        "print()\n",
        "print(f\"{'Metric':<40}{'Value':>10}\")\n",
        "print(\"-\" * 50)\n",
        "print(f\"{'Average Daily Return':<40}{average_daily_return * 100:>9.2f}%\")\n",
        "print(f\"{'Annualized Cumulative Return':<40}{annualized_cumulative_return * 100:>9.1f}%\")\n",
        "print(f\"{'Annualized Sharpe Ratio':<40}{annualized_sharpe_ratio:>10.2f}\")\n",
        "print(f\"{'Maximum Drawdown':<40}{maximum_drawdown * 100:>9.1f}%\")\n",
        "print(f\"{'Hit Rate':<40}{hit_rate * 100:>9.1f}%\")\n",
        "\n",
        "print()\n",
        "print()\n",
        "print('SHORT PORTFOLIO')\n",
        "average_daily_return, annualized_cumulative_return, annualized_sharpe_ratio, maximum_drawdown, hit_rate = calculte_portfolio_performance(- daily_return_5)\n",
        "print()\n",
        "print(f\"{'Metric':<40}{'Value':>10}\")\n",
        "print(\"-\" * 50)\n",
        "print(f\"{'Average Daily Return':<40}{average_daily_return * 100:>9.2f}%\")\n",
        "print(f\"{'Annualized Cumulative Return':<40}{annualized_cumulative_return * 100:>9.1f}%\")\n",
        "print(f\"{'Annualized Sharpe Ratio':<40}{annualized_sharpe_ratio:>10.2f}\")\n",
        "print(f\"{'Maximum Drawdown':<40}{maximum_drawdown * 100:>9.1f}%\")\n",
        "print(f\"{'Hit Rate':<40}{hit_rate * 100:>9.1f}%\")\n",
        "\n",
        "print()\n",
        "print()\n",
        "print('LONG-SHORT PORTFOLIO')\n",
        "average_daily_return, annualized_cumulative_return, annualized_sharpe_ratio, maximum_drawdown, hit_rate = calculte_portfolio_performance((daily_return_1 - daily_return_5))\n",
        "print()\n",
        "print(f\"{'Metric':<40}{'Value':>10}\")\n",
        "print(\"-\" * 50)\n",
        "print(f\"{'Average Daily Return':<40}{average_daily_return * 100:>9.2f}%\")\n",
        "print(f\"{'Annualized Cumulative Return':<40}{annualized_cumulative_return * 100:>9.1f}%\")\n",
        "print(f\"{'Annualized Sharpe Ratio':<40}{annualized_sharpe_ratio:>10.2f}\")\n",
        "print(f\"{'Maximum Drawdown':<40}{maximum_drawdown * 100:>9.1f}%\")\n",
        "print(f\"{'Hit Rate':<40}{hit_rate * 100:>9.1f}%\")"
      ],
      "metadata": {
        "colab": {
          "base_uri": "https://localhost:8080/"
        },
        "id": "hRLUxX6dxpeY",
        "outputId": "94678706-726a-4c11-94cf-abb619cf3003"
      },
      "execution_count": null,
      "outputs": [
        {
          "output_type": "stream",
          "name": "stdout",
          "text": [
            "LONG PORTFOLIO\n",
            "\n",
            "Metric                                       Value\n",
            "--------------------------------------------------\n",
            "Average Daily Return                         0.21%\n",
            "Annualized Cumulative Return                 68.0%\n",
            "Annualized Sharpe Ratio                       2.66\n",
            "Maximum Drawdown                            -93.1%\n",
            "Hit Rate                                     59.1%\n",
            "\n",
            "\n",
            "SHORT PORTFOLIO\n",
            "\n",
            "Metric                                       Value\n",
            "--------------------------------------------------\n",
            "Average Daily Return                         0.21%\n",
            "Annualized Cumulative Return                 66.9%\n",
            "Annualized Sharpe Ratio                       2.69\n",
            "Maximum Drawdown                            -94.1%\n",
            "Hit Rate                                     51.7%\n",
            "\n",
            "\n",
            "LONG-SHORT PORTFOLIO\n",
            "\n",
            "Metric                                       Value\n",
            "--------------------------------------------------\n",
            "Average Daily Return                         0.43%\n",
            "Annualized Cumulative Return                190.8%\n",
            "Annualized Sharpe Ratio                      14.48\n",
            "Maximum Drawdown                            -97.8%\n",
            "Hit Rate                                     84.6%\n"
          ]
        }
      ]
    }
  ]
}